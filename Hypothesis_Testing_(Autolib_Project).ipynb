{
  "nbformat": 4,
  "nbformat_minor": 0,
  "metadata": {
    "colab": {
      "name": "Hypothesis Testing (Autolib Project).ipynb",
      "provenance": [],
      "collapsed_sections": [],
      "authorship_tag": "ABX9TyOUvYBDCIj2kfgmGBXd/tLP",
      "include_colab_link": true
    },
    "kernelspec": {
      "name": "python3",
      "display_name": "Python 3"
    }
  },
  "cells": [
    {
      "cell_type": "markdown",
      "metadata": {
        "id": "view-in-github",
        "colab_type": "text"
      },
      "source": [
        "<a href=\"https://colab.research.google.com/github/JoanYego/Hypothesis-Testing-Autolib-Dataset/blob/master/Hypothesis_Testing_(Autolib_Project).ipynb\" target=\"_parent\"><img src=\"https://colab.research.google.com/assets/colab-badge.svg\" alt=\"Open In Colab\"/></a>"
      ]
    },
    {
      "cell_type": "markdown",
      "metadata": {
        "id": "6kdX4KrcJcJE",
        "colab_type": "text"
      },
      "source": [
        "# Specifying the Research Question"
      ]
    },
    {
      "cell_type": "markdown",
      "metadata": {
        "id": "c-lYM1SlLgTv",
        "colab_type": "text"
      },
      "source": [
        "> The goal of this project is to demonstrate the concept of hypothesis testing by investigating a claim about blue cars using a dataset from an electric car sharing service company called Autolib. More specifically, I will be comparing the blue car usage rates in Paris and Hauts-de-Seine, which are two French cities. Below are the specific hypotheses of interest in this analysis:\n",
        "\n",
        "> Null Hypothesis: For both Paris and Hauts-de-Seine the average number of blue cars picked up during weekends is the same.\n",
        "\n",
        ">> Ho : μ1 = μ2\n",
        "\n",
        "> Alternate Hypothesis: The average number of blue cars picked up during the weekend is different for Paris and Hauts-de-Seine.\n",
        "\n",
        ">> Ha : μ1 ≠ μ2 "
      ]
    },
    {
      "cell_type": "markdown",
      "metadata": {
        "id": "Q8kR0S9IJl_J",
        "colab_type": "text"
      },
      "source": [
        "# Defining the Metric for Success"
      ]
    },
    {
      "cell_type": "markdown",
      "metadata": {
        "id": "aHeemfgJPZZP",
        "colab_type": "text"
      },
      "source": [
        "> This project will be considered a success when we are able to perform the following tasks:\n",
        "\n",
        ">*   Specify the null and alternate hypothesis.\n",
        ">*   Conduct EDA to uncover underlying patterns within the dataset that can guide the sampling technique.\n",
        ">*   Perform hypothesis testing and interpret the results.\n",
        ">*   Provide project summary and conclusions."
      ]
    },
    {
      "cell_type": "markdown",
      "metadata": {
        "id": "iVYnRjVbJrXw",
        "colab_type": "text"
      },
      "source": [
        "# Understanding the Research Context"
      ]
    },
    {
      "cell_type": "markdown",
      "metadata": {
        "id": "knys7fKJWpdO",
        "colab_type": "text"
      },
      "source": [
        "> Autolib was an electric car sharing service company in France that was operational between 2011 and 2018. The company had three types of electric cars i.e blue cars, Utilib cars and Utilib 1.4 cars. Blue cars were most popularly used. These cars were available across various cities and postal codes in France and renters could pick up cars in one station then drop them off at a different station that was closer to their destination. The dataset used in this analysis allows us to understand various elecric car usage patterns for the company. The available data contains usage information for various postal codes between January 2018 and June 2018. \n",
        "\n",
        "> For this project, I decided to focus on two cities Paris (department # 75) and Hauts-de-Seine (department # 92). Compared to other cities available in the dataset, these two cities are the top two most densely populated. Even though Hauts-de-Seine is larger than Paris in terms of total area in square kilometers, Paris is much more densely populated and more popular with tourists. As such, I suspect that the average blue car usage rates for those two cities are different. Usage rates are generally higher during the weekends therefore the analysis will focus on this time period.\n",
        "\n",
        "\n"
      ]
    },
    {
      "cell_type": "markdown",
      "metadata": {
        "id": "3aikh7lvJwZA",
        "colab_type": "text"
      },
      "source": [
        "# Experimental Design"
      ]
    },
    {
      "cell_type": "markdown",
      "metadata": {
        "id": "FQRlwxAwYWqR",
        "colab_type": "text"
      },
      "source": [
        "> Below are the steps that will be conducted in this analysis in order to fulfill the project goal satisfactorily:\n",
        "\n",
        "\n",
        ">*   Load data and preview preliminary characteristics of the dataset\n",
        ">*   Data cleaning (check for and deal with outliers, anomalies and missing data)\n",
        ">*   Perform univariate and bivariate analysis\n",
        ">*   Specify the null and alternate hypotheses\n",
        ">*   Specify the sampling technique\n",
        ">*   Perform hypothesis testing\n",
        ">*   Discuss the hypothesis test results\n",
        ">*   Provide project summary and conclusion"
      ]
    },
    {
      "cell_type": "markdown",
      "metadata": {
        "id": "PyBYVWbHJ0y8",
        "colab_type": "text"
      },
      "source": [
        "# Data Relevance"
      ]
    },
    {
      "cell_type": "markdown",
      "metadata": {
        "id": "Y8qL7uw5ZJ_n",
        "colab_type": "text"
      },
      "source": [
        "> The dataset used in the analysis contains records of electric car usage in France from January 2018 to June 2018. This dataset was originally sourced from opendataparis.com. Some of the information in the dataset includes postal code, day of the week and total cars returned or picked up for blue cars, Utilib cars and Utilib 1.4 cars.The data available for this analysis is valid and useful towards achieving the project goal given the availability of both numeric and categorical attributes."
      ]
    },
    {
      "cell_type": "markdown",
      "metadata": {
        "id": "584SnQoZJ82r",
        "colab_type": "text"
      },
      "source": [
        "# Reading the Data"
      ]
    },
    {
      "cell_type": "code",
      "metadata": {
        "id": "gbbAoMvEWLe-",
        "colab_type": "code",
        "colab": {}
      },
      "source": [
        "# Importing relevant python libraries\n",
        "\n",
        "import pandas as pd\n",
        "import numpy as np\n",
        "import seaborn as sns\n",
        "import matplotlib.pyplot as plt\n"
      ],
      "execution_count": 55,
      "outputs": []
    },
    {
      "cell_type": "code",
      "metadata": {
        "id": "oZp7fNfMWZjy",
        "colab_type": "code",
        "colab": {
          "base_uri": "https://localhost:8080/",
          "height": 456
        },
        "outputId": "0727564e-40a7-4e77-9bab-49d7ed92230b"
      },
      "source": [
        "# Loading data from the source (csv file)\n",
        "\n",
        "# Dataset Url: [http://bit.ly/DSCoreAutolibDataset\n",
        "\n",
        "data = pd.read_csv('autolib.csv')\n",
        "data"
      ],
      "execution_count": 56,
      "outputs": [
        {
          "output_type": "execute_result",
          "data": {
            "text/html": [
              "<div>\n",
              "<style scoped>\n",
              "    .dataframe tbody tr th:only-of-type {\n",
              "        vertical-align: middle;\n",
              "    }\n",
              "\n",
              "    .dataframe tbody tr th {\n",
              "        vertical-align: top;\n",
              "    }\n",
              "\n",
              "    .dataframe thead th {\n",
              "        text-align: right;\n",
              "    }\n",
              "</style>\n",
              "<table border=\"1\" class=\"dataframe\">\n",
              "  <thead>\n",
              "    <tr style=\"text-align: right;\">\n",
              "      <th></th>\n",
              "      <th>Postal code</th>\n",
              "      <th>date</th>\n",
              "      <th>n_daily_data_points</th>\n",
              "      <th>dayOfWeek</th>\n",
              "      <th>day_type</th>\n",
              "      <th>BlueCars_taken_sum</th>\n",
              "      <th>BlueCars_returned_sum</th>\n",
              "      <th>Utilib_taken_sum</th>\n",
              "      <th>Utilib_returned_sum</th>\n",
              "      <th>Utilib_14_taken_sum</th>\n",
              "      <th>Utilib_14_returned_sum</th>\n",
              "      <th>Slots_freed_sum</th>\n",
              "      <th>Slots_taken_sum</th>\n",
              "    </tr>\n",
              "  </thead>\n",
              "  <tbody>\n",
              "    <tr>\n",
              "      <th>0</th>\n",
              "      <td>75001</td>\n",
              "      <td>1/1/2018</td>\n",
              "      <td>1440</td>\n",
              "      <td>0</td>\n",
              "      <td>weekday</td>\n",
              "      <td>110</td>\n",
              "      <td>103</td>\n",
              "      <td>3</td>\n",
              "      <td>2</td>\n",
              "      <td>10</td>\n",
              "      <td>9</td>\n",
              "      <td>22</td>\n",
              "      <td>20</td>\n",
              "    </tr>\n",
              "    <tr>\n",
              "      <th>1</th>\n",
              "      <td>75001</td>\n",
              "      <td>1/2/2018</td>\n",
              "      <td>1438</td>\n",
              "      <td>1</td>\n",
              "      <td>weekday</td>\n",
              "      <td>98</td>\n",
              "      <td>94</td>\n",
              "      <td>1</td>\n",
              "      <td>1</td>\n",
              "      <td>8</td>\n",
              "      <td>8</td>\n",
              "      <td>23</td>\n",
              "      <td>22</td>\n",
              "    </tr>\n",
              "    <tr>\n",
              "      <th>2</th>\n",
              "      <td>75001</td>\n",
              "      <td>1/3/2018</td>\n",
              "      <td>1439</td>\n",
              "      <td>2</td>\n",
              "      <td>weekday</td>\n",
              "      <td>138</td>\n",
              "      <td>139</td>\n",
              "      <td>0</td>\n",
              "      <td>0</td>\n",
              "      <td>2</td>\n",
              "      <td>2</td>\n",
              "      <td>27</td>\n",
              "      <td>27</td>\n",
              "    </tr>\n",
              "    <tr>\n",
              "      <th>3</th>\n",
              "      <td>75001</td>\n",
              "      <td>1/4/2018</td>\n",
              "      <td>1320</td>\n",
              "      <td>3</td>\n",
              "      <td>weekday</td>\n",
              "      <td>104</td>\n",
              "      <td>104</td>\n",
              "      <td>2</td>\n",
              "      <td>2</td>\n",
              "      <td>9</td>\n",
              "      <td>8</td>\n",
              "      <td>25</td>\n",
              "      <td>21</td>\n",
              "    </tr>\n",
              "    <tr>\n",
              "      <th>4</th>\n",
              "      <td>75001</td>\n",
              "      <td>1/5/2018</td>\n",
              "      <td>1440</td>\n",
              "      <td>4</td>\n",
              "      <td>weekday</td>\n",
              "      <td>114</td>\n",
              "      <td>117</td>\n",
              "      <td>3</td>\n",
              "      <td>3</td>\n",
              "      <td>6</td>\n",
              "      <td>6</td>\n",
              "      <td>18</td>\n",
              "      <td>20</td>\n",
              "    </tr>\n",
              "    <tr>\n",
              "      <th>...</th>\n",
              "      <td>...</td>\n",
              "      <td>...</td>\n",
              "      <td>...</td>\n",
              "      <td>...</td>\n",
              "      <td>...</td>\n",
              "      <td>...</td>\n",
              "      <td>...</td>\n",
              "      <td>...</td>\n",
              "      <td>...</td>\n",
              "      <td>...</td>\n",
              "      <td>...</td>\n",
              "      <td>...</td>\n",
              "      <td>...</td>\n",
              "    </tr>\n",
              "    <tr>\n",
              "      <th>16080</th>\n",
              "      <td>95880</td>\n",
              "      <td>6/15/2018</td>\n",
              "      <td>1440</td>\n",
              "      <td>4</td>\n",
              "      <td>weekday</td>\n",
              "      <td>15</td>\n",
              "      <td>10</td>\n",
              "      <td>0</td>\n",
              "      <td>0</td>\n",
              "      <td>2</td>\n",
              "      <td>3</td>\n",
              "      <td>0</td>\n",
              "      <td>0</td>\n",
              "    </tr>\n",
              "    <tr>\n",
              "      <th>16081</th>\n",
              "      <td>95880</td>\n",
              "      <td>6/16/2018</td>\n",
              "      <td>1440</td>\n",
              "      <td>5</td>\n",
              "      <td>weekend</td>\n",
              "      <td>19</td>\n",
              "      <td>19</td>\n",
              "      <td>0</td>\n",
              "      <td>0</td>\n",
              "      <td>2</td>\n",
              "      <td>1</td>\n",
              "      <td>0</td>\n",
              "      <td>0</td>\n",
              "    </tr>\n",
              "    <tr>\n",
              "      <th>16082</th>\n",
              "      <td>95880</td>\n",
              "      <td>6/17/2018</td>\n",
              "      <td>1440</td>\n",
              "      <td>6</td>\n",
              "      <td>weekend</td>\n",
              "      <td>33</td>\n",
              "      <td>35</td>\n",
              "      <td>1</td>\n",
              "      <td>1</td>\n",
              "      <td>0</td>\n",
              "      <td>0</td>\n",
              "      <td>0</td>\n",
              "      <td>0</td>\n",
              "    </tr>\n",
              "    <tr>\n",
              "      <th>16083</th>\n",
              "      <td>95880</td>\n",
              "      <td>6/18/2018</td>\n",
              "      <td>1440</td>\n",
              "      <td>0</td>\n",
              "      <td>weekday</td>\n",
              "      <td>11</td>\n",
              "      <td>14</td>\n",
              "      <td>3</td>\n",
              "      <td>5</td>\n",
              "      <td>2</td>\n",
              "      <td>2</td>\n",
              "      <td>0</td>\n",
              "      <td>0</td>\n",
              "    </tr>\n",
              "    <tr>\n",
              "      <th>16084</th>\n",
              "      <td>95880</td>\n",
              "      <td>6/19/2018</td>\n",
              "      <td>1370</td>\n",
              "      <td>1</td>\n",
              "      <td>weekday</td>\n",
              "      <td>2</td>\n",
              "      <td>2</td>\n",
              "      <td>2</td>\n",
              "      <td>1</td>\n",
              "      <td>0</td>\n",
              "      <td>0</td>\n",
              "      <td>0</td>\n",
              "      <td>0</td>\n",
              "    </tr>\n",
              "  </tbody>\n",
              "</table>\n",
              "<p>16085 rows × 13 columns</p>\n",
              "</div>"
            ],
            "text/plain": [
              "       Postal code       date  ...  Slots_freed_sum  Slots_taken_sum\n",
              "0            75001   1/1/2018  ...               22               20\n",
              "1            75001   1/2/2018  ...               23               22\n",
              "2            75001   1/3/2018  ...               27               27\n",
              "3            75001   1/4/2018  ...               25               21\n",
              "4            75001   1/5/2018  ...               18               20\n",
              "...            ...        ...  ...              ...              ...\n",
              "16080        95880  6/15/2018  ...                0                0\n",
              "16081        95880  6/16/2018  ...                0                0\n",
              "16082        95880  6/17/2018  ...                0                0\n",
              "16083        95880  6/18/2018  ...                0                0\n",
              "16084        95880  6/19/2018  ...                0                0\n",
              "\n",
              "[16085 rows x 13 columns]"
            ]
          },
          "metadata": {
            "tags": []
          },
          "execution_count": 56
        }
      ]
    },
    {
      "cell_type": "markdown",
      "metadata": {
        "id": "w3u0MkxlKGA9",
        "colab_type": "text"
      },
      "source": [
        "# Checking the Data"
      ]
    },
    {
      "cell_type": "code",
      "metadata": {
        "id": "4yptVUTCWyC3",
        "colab_type": "code",
        "colab": {
          "base_uri": "https://localhost:8080/",
          "height": 241
        },
        "outputId": "57d8cc49-8be8-4543-dae8-42647f01115b"
      },
      "source": [
        "# Checking the top 5 records of the dataset\n",
        "\n",
        "data.head(5)"
      ],
      "execution_count": 57,
      "outputs": [
        {
          "output_type": "execute_result",
          "data": {
            "text/html": [
              "<div>\n",
              "<style scoped>\n",
              "    .dataframe tbody tr th:only-of-type {\n",
              "        vertical-align: middle;\n",
              "    }\n",
              "\n",
              "    .dataframe tbody tr th {\n",
              "        vertical-align: top;\n",
              "    }\n",
              "\n",
              "    .dataframe thead th {\n",
              "        text-align: right;\n",
              "    }\n",
              "</style>\n",
              "<table border=\"1\" class=\"dataframe\">\n",
              "  <thead>\n",
              "    <tr style=\"text-align: right;\">\n",
              "      <th></th>\n",
              "      <th>Postal code</th>\n",
              "      <th>date</th>\n",
              "      <th>n_daily_data_points</th>\n",
              "      <th>dayOfWeek</th>\n",
              "      <th>day_type</th>\n",
              "      <th>BlueCars_taken_sum</th>\n",
              "      <th>BlueCars_returned_sum</th>\n",
              "      <th>Utilib_taken_sum</th>\n",
              "      <th>Utilib_returned_sum</th>\n",
              "      <th>Utilib_14_taken_sum</th>\n",
              "      <th>Utilib_14_returned_sum</th>\n",
              "      <th>Slots_freed_sum</th>\n",
              "      <th>Slots_taken_sum</th>\n",
              "    </tr>\n",
              "  </thead>\n",
              "  <tbody>\n",
              "    <tr>\n",
              "      <th>0</th>\n",
              "      <td>75001</td>\n",
              "      <td>1/1/2018</td>\n",
              "      <td>1440</td>\n",
              "      <td>0</td>\n",
              "      <td>weekday</td>\n",
              "      <td>110</td>\n",
              "      <td>103</td>\n",
              "      <td>3</td>\n",
              "      <td>2</td>\n",
              "      <td>10</td>\n",
              "      <td>9</td>\n",
              "      <td>22</td>\n",
              "      <td>20</td>\n",
              "    </tr>\n",
              "    <tr>\n",
              "      <th>1</th>\n",
              "      <td>75001</td>\n",
              "      <td>1/2/2018</td>\n",
              "      <td>1438</td>\n",
              "      <td>1</td>\n",
              "      <td>weekday</td>\n",
              "      <td>98</td>\n",
              "      <td>94</td>\n",
              "      <td>1</td>\n",
              "      <td>1</td>\n",
              "      <td>8</td>\n",
              "      <td>8</td>\n",
              "      <td>23</td>\n",
              "      <td>22</td>\n",
              "    </tr>\n",
              "    <tr>\n",
              "      <th>2</th>\n",
              "      <td>75001</td>\n",
              "      <td>1/3/2018</td>\n",
              "      <td>1439</td>\n",
              "      <td>2</td>\n",
              "      <td>weekday</td>\n",
              "      <td>138</td>\n",
              "      <td>139</td>\n",
              "      <td>0</td>\n",
              "      <td>0</td>\n",
              "      <td>2</td>\n",
              "      <td>2</td>\n",
              "      <td>27</td>\n",
              "      <td>27</td>\n",
              "    </tr>\n",
              "    <tr>\n",
              "      <th>3</th>\n",
              "      <td>75001</td>\n",
              "      <td>1/4/2018</td>\n",
              "      <td>1320</td>\n",
              "      <td>3</td>\n",
              "      <td>weekday</td>\n",
              "      <td>104</td>\n",
              "      <td>104</td>\n",
              "      <td>2</td>\n",
              "      <td>2</td>\n",
              "      <td>9</td>\n",
              "      <td>8</td>\n",
              "      <td>25</td>\n",
              "      <td>21</td>\n",
              "    </tr>\n",
              "    <tr>\n",
              "      <th>4</th>\n",
              "      <td>75001</td>\n",
              "      <td>1/5/2018</td>\n",
              "      <td>1440</td>\n",
              "      <td>4</td>\n",
              "      <td>weekday</td>\n",
              "      <td>114</td>\n",
              "      <td>117</td>\n",
              "      <td>3</td>\n",
              "      <td>3</td>\n",
              "      <td>6</td>\n",
              "      <td>6</td>\n",
              "      <td>18</td>\n",
              "      <td>20</td>\n",
              "    </tr>\n",
              "  </tbody>\n",
              "</table>\n",
              "</div>"
            ],
            "text/plain": [
              "   Postal code      date  ...  Slots_freed_sum  Slots_taken_sum\n",
              "0        75001  1/1/2018  ...               22               20\n",
              "1        75001  1/2/2018  ...               23               22\n",
              "2        75001  1/3/2018  ...               27               27\n",
              "3        75001  1/4/2018  ...               25               21\n",
              "4        75001  1/5/2018  ...               18               20\n",
              "\n",
              "[5 rows x 13 columns]"
            ]
          },
          "metadata": {
            "tags": []
          },
          "execution_count": 57
        }
      ]
    },
    {
      "cell_type": "code",
      "metadata": {
        "id": "w_SmI2_0W-Rq",
        "colab_type": "code",
        "colab": {
          "base_uri": "https://localhost:8080/",
          "height": 241
        },
        "outputId": "b1896c11-1957-4378-e2ba-0087338a571f"
      },
      "source": [
        "# Checking the bottom 5 records of the dataset\n",
        "\n",
        "data.tail(5)"
      ],
      "execution_count": 58,
      "outputs": [
        {
          "output_type": "execute_result",
          "data": {
            "text/html": [
              "<div>\n",
              "<style scoped>\n",
              "    .dataframe tbody tr th:only-of-type {\n",
              "        vertical-align: middle;\n",
              "    }\n",
              "\n",
              "    .dataframe tbody tr th {\n",
              "        vertical-align: top;\n",
              "    }\n",
              "\n",
              "    .dataframe thead th {\n",
              "        text-align: right;\n",
              "    }\n",
              "</style>\n",
              "<table border=\"1\" class=\"dataframe\">\n",
              "  <thead>\n",
              "    <tr style=\"text-align: right;\">\n",
              "      <th></th>\n",
              "      <th>Postal code</th>\n",
              "      <th>date</th>\n",
              "      <th>n_daily_data_points</th>\n",
              "      <th>dayOfWeek</th>\n",
              "      <th>day_type</th>\n",
              "      <th>BlueCars_taken_sum</th>\n",
              "      <th>BlueCars_returned_sum</th>\n",
              "      <th>Utilib_taken_sum</th>\n",
              "      <th>Utilib_returned_sum</th>\n",
              "      <th>Utilib_14_taken_sum</th>\n",
              "      <th>Utilib_14_returned_sum</th>\n",
              "      <th>Slots_freed_sum</th>\n",
              "      <th>Slots_taken_sum</th>\n",
              "    </tr>\n",
              "  </thead>\n",
              "  <tbody>\n",
              "    <tr>\n",
              "      <th>16080</th>\n",
              "      <td>95880</td>\n",
              "      <td>6/15/2018</td>\n",
              "      <td>1440</td>\n",
              "      <td>4</td>\n",
              "      <td>weekday</td>\n",
              "      <td>15</td>\n",
              "      <td>10</td>\n",
              "      <td>0</td>\n",
              "      <td>0</td>\n",
              "      <td>2</td>\n",
              "      <td>3</td>\n",
              "      <td>0</td>\n",
              "      <td>0</td>\n",
              "    </tr>\n",
              "    <tr>\n",
              "      <th>16081</th>\n",
              "      <td>95880</td>\n",
              "      <td>6/16/2018</td>\n",
              "      <td>1440</td>\n",
              "      <td>5</td>\n",
              "      <td>weekend</td>\n",
              "      <td>19</td>\n",
              "      <td>19</td>\n",
              "      <td>0</td>\n",
              "      <td>0</td>\n",
              "      <td>2</td>\n",
              "      <td>1</td>\n",
              "      <td>0</td>\n",
              "      <td>0</td>\n",
              "    </tr>\n",
              "    <tr>\n",
              "      <th>16082</th>\n",
              "      <td>95880</td>\n",
              "      <td>6/17/2018</td>\n",
              "      <td>1440</td>\n",
              "      <td>6</td>\n",
              "      <td>weekend</td>\n",
              "      <td>33</td>\n",
              "      <td>35</td>\n",
              "      <td>1</td>\n",
              "      <td>1</td>\n",
              "      <td>0</td>\n",
              "      <td>0</td>\n",
              "      <td>0</td>\n",
              "      <td>0</td>\n",
              "    </tr>\n",
              "    <tr>\n",
              "      <th>16083</th>\n",
              "      <td>95880</td>\n",
              "      <td>6/18/2018</td>\n",
              "      <td>1440</td>\n",
              "      <td>0</td>\n",
              "      <td>weekday</td>\n",
              "      <td>11</td>\n",
              "      <td>14</td>\n",
              "      <td>3</td>\n",
              "      <td>5</td>\n",
              "      <td>2</td>\n",
              "      <td>2</td>\n",
              "      <td>0</td>\n",
              "      <td>0</td>\n",
              "    </tr>\n",
              "    <tr>\n",
              "      <th>16084</th>\n",
              "      <td>95880</td>\n",
              "      <td>6/19/2018</td>\n",
              "      <td>1370</td>\n",
              "      <td>1</td>\n",
              "      <td>weekday</td>\n",
              "      <td>2</td>\n",
              "      <td>2</td>\n",
              "      <td>2</td>\n",
              "      <td>1</td>\n",
              "      <td>0</td>\n",
              "      <td>0</td>\n",
              "      <td>0</td>\n",
              "      <td>0</td>\n",
              "    </tr>\n",
              "  </tbody>\n",
              "</table>\n",
              "</div>"
            ],
            "text/plain": [
              "       Postal code       date  ...  Slots_freed_sum  Slots_taken_sum\n",
              "16080        95880  6/15/2018  ...                0                0\n",
              "16081        95880  6/16/2018  ...                0                0\n",
              "16082        95880  6/17/2018  ...                0                0\n",
              "16083        95880  6/18/2018  ...                0                0\n",
              "16084        95880  6/19/2018  ...                0                0\n",
              "\n",
              "[5 rows x 13 columns]"
            ]
          },
          "metadata": {
            "tags": []
          },
          "execution_count": 58
        }
      ]
    },
    {
      "cell_type": "code",
      "metadata": {
        "id": "MWPbgzprXHfb",
        "colab_type": "code",
        "colab": {
          "base_uri": "https://localhost:8080/",
          "height": 241
        },
        "outputId": "beecf298-9fa3-4e5a-8113-0db998f8c6de"
      },
      "source": [
        "# Previewing a random sample of the dataset\n",
        "\n",
        "data.sample(n=5)"
      ],
      "execution_count": 59,
      "outputs": [
        {
          "output_type": "execute_result",
          "data": {
            "text/html": [
              "<div>\n",
              "<style scoped>\n",
              "    .dataframe tbody tr th:only-of-type {\n",
              "        vertical-align: middle;\n",
              "    }\n",
              "\n",
              "    .dataframe tbody tr th {\n",
              "        vertical-align: top;\n",
              "    }\n",
              "\n",
              "    .dataframe thead th {\n",
              "        text-align: right;\n",
              "    }\n",
              "</style>\n",
              "<table border=\"1\" class=\"dataframe\">\n",
              "  <thead>\n",
              "    <tr style=\"text-align: right;\">\n",
              "      <th></th>\n",
              "      <th>Postal code</th>\n",
              "      <th>date</th>\n",
              "      <th>n_daily_data_points</th>\n",
              "      <th>dayOfWeek</th>\n",
              "      <th>day_type</th>\n",
              "      <th>BlueCars_taken_sum</th>\n",
              "      <th>BlueCars_returned_sum</th>\n",
              "      <th>Utilib_taken_sum</th>\n",
              "      <th>Utilib_returned_sum</th>\n",
              "      <th>Utilib_14_taken_sum</th>\n",
              "      <th>Utilib_14_returned_sum</th>\n",
              "      <th>Slots_freed_sum</th>\n",
              "      <th>Slots_taken_sum</th>\n",
              "    </tr>\n",
              "  </thead>\n",
              "  <tbody>\n",
              "    <tr>\n",
              "      <th>1059</th>\n",
              "      <td>75007</td>\n",
              "      <td>5/7/2018</td>\n",
              "      <td>1437</td>\n",
              "      <td>0</td>\n",
              "      <td>weekday</td>\n",
              "      <td>239</td>\n",
              "      <td>249</td>\n",
              "      <td>13</td>\n",
              "      <td>14</td>\n",
              "      <td>15</td>\n",
              "      <td>16</td>\n",
              "      <td>85</td>\n",
              "      <td>90</td>\n",
              "    </tr>\n",
              "    <tr>\n",
              "      <th>4758</th>\n",
              "      <td>92110</td>\n",
              "      <td>3/25/2018</td>\n",
              "      <td>1380</td>\n",
              "      <td>6</td>\n",
              "      <td>weekend</td>\n",
              "      <td>21</td>\n",
              "      <td>24</td>\n",
              "      <td>1</td>\n",
              "      <td>2</td>\n",
              "      <td>4</td>\n",
              "      <td>4</td>\n",
              "      <td>0</td>\n",
              "      <td>0</td>\n",
              "    </tr>\n",
              "    <tr>\n",
              "      <th>15635</th>\n",
              "      <td>95100</td>\n",
              "      <td>1/19/2018</td>\n",
              "      <td>1440</td>\n",
              "      <td>4</td>\n",
              "      <td>weekday</td>\n",
              "      <td>15</td>\n",
              "      <td>13</td>\n",
              "      <td>0</td>\n",
              "      <td>0</td>\n",
              "      <td>1</td>\n",
              "      <td>2</td>\n",
              "      <td>0</td>\n",
              "      <td>0</td>\n",
              "    </tr>\n",
              "    <tr>\n",
              "      <th>8950</th>\n",
              "      <td>92400</td>\n",
              "      <td>3/19/2018</td>\n",
              "      <td>1440</td>\n",
              "      <td>0</td>\n",
              "      <td>weekday</td>\n",
              "      <td>88</td>\n",
              "      <td>79</td>\n",
              "      <td>2</td>\n",
              "      <td>2</td>\n",
              "      <td>3</td>\n",
              "      <td>4</td>\n",
              "      <td>4</td>\n",
              "      <td>4</td>\n",
              "    </tr>\n",
              "    <tr>\n",
              "      <th>1359</th>\n",
              "      <td>75009</td>\n",
              "      <td>4/25/2018</td>\n",
              "      <td>1440</td>\n",
              "      <td>2</td>\n",
              "      <td>weekday</td>\n",
              "      <td>314</td>\n",
              "      <td>302</td>\n",
              "      <td>13</td>\n",
              "      <td>14</td>\n",
              "      <td>31</td>\n",
              "      <td>30</td>\n",
              "      <td>72</td>\n",
              "      <td>71</td>\n",
              "    </tr>\n",
              "  </tbody>\n",
              "</table>\n",
              "</div>"
            ],
            "text/plain": [
              "       Postal code       date  ...  Slots_freed_sum  Slots_taken_sum\n",
              "1059         75007   5/7/2018  ...               85               90\n",
              "4758         92110  3/25/2018  ...                0                0\n",
              "15635        95100  1/19/2018  ...                0                0\n",
              "8950         92400  3/19/2018  ...                4                4\n",
              "1359         75009  4/25/2018  ...               72               71\n",
              "\n",
              "[5 rows x 13 columns]"
            ]
          },
          "metadata": {
            "tags": []
          },
          "execution_count": 59
        }
      ]
    },
    {
      "cell_type": "code",
      "metadata": {
        "id": "t5s1nHQEXWEQ",
        "colab_type": "code",
        "colab": {
          "base_uri": "https://localhost:8080/",
          "height": 34
        },
        "outputId": "29896476-bef1-4bbf-ea1e-c04769773271"
      },
      "source": [
        "# Checking the no. of rows and columns\n",
        "\n",
        "data.shape"
      ],
      "execution_count": 60,
      "outputs": [
        {
          "output_type": "execute_result",
          "data": {
            "text/plain": [
              "(16085, 13)"
            ]
          },
          "metadata": {
            "tags": []
          },
          "execution_count": 60
        }
      ]
    },
    {
      "cell_type": "code",
      "metadata": {
        "id": "aL9ZwzLMXvsQ",
        "colab_type": "code",
        "colab": {
          "base_uri": "https://localhost:8080/",
          "height": 357
        },
        "outputId": "a069057b-0889-46ab-b726-3d7518b40d31"
      },
      "source": [
        "# Checking datatypes for each attribute and previewing the existence of null values\n",
        "\n",
        "data.info()"
      ],
      "execution_count": 61,
      "outputs": [
        {
          "output_type": "stream",
          "text": [
            "<class 'pandas.core.frame.DataFrame'>\n",
            "RangeIndex: 16085 entries, 0 to 16084\n",
            "Data columns (total 13 columns):\n",
            " #   Column                  Non-Null Count  Dtype \n",
            "---  ------                  --------------  ----- \n",
            " 0   Postal code             16085 non-null  int64 \n",
            " 1   date                    16085 non-null  object\n",
            " 2   n_daily_data_points     16085 non-null  int64 \n",
            " 3   dayOfWeek               16085 non-null  int64 \n",
            " 4   day_type                16085 non-null  object\n",
            " 5   BlueCars_taken_sum      16085 non-null  int64 \n",
            " 6   BlueCars_returned_sum   16085 non-null  int64 \n",
            " 7   Utilib_taken_sum        16085 non-null  int64 \n",
            " 8   Utilib_returned_sum     16085 non-null  int64 \n",
            " 9   Utilib_14_taken_sum     16085 non-null  int64 \n",
            " 10  Utilib_14_returned_sum  16085 non-null  int64 \n",
            " 11  Slots_freed_sum         16085 non-null  int64 \n",
            " 12  Slots_taken_sum         16085 non-null  int64 \n",
            "dtypes: int64(11), object(2)\n",
            "memory usage: 1.6+ MB\n"
          ],
          "name": "stdout"
        }
      ]
    },
    {
      "cell_type": "markdown",
      "metadata": {
        "id": "AtoYEoQuSdpG",
        "colab_type": "text"
      },
      "source": [
        "# Data Cleaning"
      ]
    },
    {
      "cell_type": "code",
      "metadata": {
        "id": "U1CACZfdbSZG",
        "colab_type": "code",
        "colab": {
          "base_uri": "https://localhost:8080/",
          "height": 204
        },
        "outputId": "dcbc34aa-9f39-4663-dd18-2aa42615b1d9"
      },
      "source": [
        "# Since we are interested in learning more about blue cars only\n",
        "# we can drop all other unnecessary columns\n",
        "\n",
        "data = data.drop(data.columns[7:], axis=1)\n",
        "data.head(5)"
      ],
      "execution_count": 62,
      "outputs": [
        {
          "output_type": "execute_result",
          "data": {
            "text/html": [
              "<div>\n",
              "<style scoped>\n",
              "    .dataframe tbody tr th:only-of-type {\n",
              "        vertical-align: middle;\n",
              "    }\n",
              "\n",
              "    .dataframe tbody tr th {\n",
              "        vertical-align: top;\n",
              "    }\n",
              "\n",
              "    .dataframe thead th {\n",
              "        text-align: right;\n",
              "    }\n",
              "</style>\n",
              "<table border=\"1\" class=\"dataframe\">\n",
              "  <thead>\n",
              "    <tr style=\"text-align: right;\">\n",
              "      <th></th>\n",
              "      <th>Postal code</th>\n",
              "      <th>date</th>\n",
              "      <th>n_daily_data_points</th>\n",
              "      <th>dayOfWeek</th>\n",
              "      <th>day_type</th>\n",
              "      <th>BlueCars_taken_sum</th>\n",
              "      <th>BlueCars_returned_sum</th>\n",
              "    </tr>\n",
              "  </thead>\n",
              "  <tbody>\n",
              "    <tr>\n",
              "      <th>0</th>\n",
              "      <td>75001</td>\n",
              "      <td>1/1/2018</td>\n",
              "      <td>1440</td>\n",
              "      <td>0</td>\n",
              "      <td>weekday</td>\n",
              "      <td>110</td>\n",
              "      <td>103</td>\n",
              "    </tr>\n",
              "    <tr>\n",
              "      <th>1</th>\n",
              "      <td>75001</td>\n",
              "      <td>1/2/2018</td>\n",
              "      <td>1438</td>\n",
              "      <td>1</td>\n",
              "      <td>weekday</td>\n",
              "      <td>98</td>\n",
              "      <td>94</td>\n",
              "    </tr>\n",
              "    <tr>\n",
              "      <th>2</th>\n",
              "      <td>75001</td>\n",
              "      <td>1/3/2018</td>\n",
              "      <td>1439</td>\n",
              "      <td>2</td>\n",
              "      <td>weekday</td>\n",
              "      <td>138</td>\n",
              "      <td>139</td>\n",
              "    </tr>\n",
              "    <tr>\n",
              "      <th>3</th>\n",
              "      <td>75001</td>\n",
              "      <td>1/4/2018</td>\n",
              "      <td>1320</td>\n",
              "      <td>3</td>\n",
              "      <td>weekday</td>\n",
              "      <td>104</td>\n",
              "      <td>104</td>\n",
              "    </tr>\n",
              "    <tr>\n",
              "      <th>4</th>\n",
              "      <td>75001</td>\n",
              "      <td>1/5/2018</td>\n",
              "      <td>1440</td>\n",
              "      <td>4</td>\n",
              "      <td>weekday</td>\n",
              "      <td>114</td>\n",
              "      <td>117</td>\n",
              "    </tr>\n",
              "  </tbody>\n",
              "</table>\n",
              "</div>"
            ],
            "text/plain": [
              "   Postal code      date  ...  BlueCars_taken_sum  BlueCars_returned_sum\n",
              "0        75001  1/1/2018  ...                 110                    103\n",
              "1        75001  1/2/2018  ...                  98                     94\n",
              "2        75001  1/3/2018  ...                 138                    139\n",
              "3        75001  1/4/2018  ...                 104                    104\n",
              "4        75001  1/5/2018  ...                 114                    117\n",
              "\n",
              "[5 rows x 7 columns]"
            ]
          },
          "metadata": {
            "tags": []
          },
          "execution_count": 62
        }
      ]
    },
    {
      "cell_type": "code",
      "metadata": {
        "id": "Fx_FK_nySgXK",
        "colab_type": "code",
        "colab": {
          "base_uri": "https://localhost:8080/",
          "height": 80
        },
        "outputId": "067859a1-017c-48fb-b055-64c18900ec47"
      },
      "source": [
        "# Renaming columns for uniformity\n",
        "\n",
        "data.columns = ['postal_code', 'date', 'daily_data_points', 'day_of_week', 'day_type', 'total_bluecars_taken', \n",
        "                'total_bluecars_returned']\n",
        "data.head(1)"
      ],
      "execution_count": 63,
      "outputs": [
        {
          "output_type": "execute_result",
          "data": {
            "text/html": [
              "<div>\n",
              "<style scoped>\n",
              "    .dataframe tbody tr th:only-of-type {\n",
              "        vertical-align: middle;\n",
              "    }\n",
              "\n",
              "    .dataframe tbody tr th {\n",
              "        vertical-align: top;\n",
              "    }\n",
              "\n",
              "    .dataframe thead th {\n",
              "        text-align: right;\n",
              "    }\n",
              "</style>\n",
              "<table border=\"1\" class=\"dataframe\">\n",
              "  <thead>\n",
              "    <tr style=\"text-align: right;\">\n",
              "      <th></th>\n",
              "      <th>postal_code</th>\n",
              "      <th>date</th>\n",
              "      <th>daily_data_points</th>\n",
              "      <th>day_of_week</th>\n",
              "      <th>day_type</th>\n",
              "      <th>total_bluecars_taken</th>\n",
              "      <th>total_bluecars_returned</th>\n",
              "    </tr>\n",
              "  </thead>\n",
              "  <tbody>\n",
              "    <tr>\n",
              "      <th>0</th>\n",
              "      <td>75001</td>\n",
              "      <td>1/1/2018</td>\n",
              "      <td>1440</td>\n",
              "      <td>0</td>\n",
              "      <td>weekday</td>\n",
              "      <td>110</td>\n",
              "      <td>103</td>\n",
              "    </tr>\n",
              "  </tbody>\n",
              "</table>\n",
              "</div>"
            ],
            "text/plain": [
              "   postal_code      date  ...  total_bluecars_taken  total_bluecars_returned\n",
              "0        75001  1/1/2018  ...                   110                      103\n",
              "\n",
              "[1 rows x 7 columns]"
            ]
          },
          "metadata": {
            "tags": []
          },
          "execution_count": 63
        }
      ]
    },
    {
      "cell_type": "code",
      "metadata": {
        "id": "6BYdYE21UxSn",
        "colab_type": "code",
        "colab": {
          "base_uri": "https://localhost:8080/",
          "height": 34
        },
        "outputId": "6664ce29-eb08-4ecc-b47c-2fae012dde5d"
      },
      "source": [
        "# Checking for duplicate data\n",
        "\n",
        "data.duplicated().any()"
      ],
      "execution_count": 64,
      "outputs": [
        {
          "output_type": "execute_result",
          "data": {
            "text/plain": [
              "False"
            ]
          },
          "metadata": {
            "tags": []
          },
          "execution_count": 64
        }
      ]
    },
    {
      "cell_type": "code",
      "metadata": {
        "id": "NeYiSugUpb5y",
        "colab_type": "code",
        "colab": {}
      },
      "source": [
        "# Change Date column to datetime type\n",
        "data['date'] = pd.to_datetime(data['date'], format='%m/%d/%Y')"
      ],
      "execution_count": 65,
      "outputs": []
    },
    {
      "cell_type": "code",
      "metadata": {
        "id": "twPMX8M8pmke",
        "colab_type": "code",
        "colab": {}
      },
      "source": [
        "# Creating a new 'month' attribute\n",
        "\n",
        "data['month'] = data['date'].dt.month"
      ],
      "execution_count": 66,
      "outputs": []
    },
    {
      "cell_type": "code",
      "metadata": {
        "id": "EOx3enlLjH7t",
        "colab_type": "code",
        "colab": {}
      },
      "source": [
        "# Replacing day_of week code with actual names\n",
        "\n",
        "encode = {\"day_of_week\" : {0:\"monday\", 1:\"tuesday\", 2:\"wednesday\", 3:\"thursday\",\n",
        "                           4:\"friday\", 5:\"saturday\", 6:\"sunday\"}, \"month\" : {1:\"January\",\n",
        "                          2:\"February\", 3:\"March\", 4:\"April\", 5:\"May\", 6:\"June\"}}"
      ],
      "execution_count": 67,
      "outputs": []
    },
    {
      "cell_type": "code",
      "metadata": {
        "id": "Mmu7cRypaZwl",
        "colab_type": "code",
        "colab": {
          "base_uri": "https://localhost:8080/",
          "height": 289
        },
        "outputId": "93cf8b1d-2a23-4e46-b819-78fdb11f6dd2"
      },
      "source": [
        "data.replace(encode, inplace = True)\n",
        "data.head()"
      ],
      "execution_count": 68,
      "outputs": [
        {
          "output_type": "execute_result",
          "data": {
            "text/html": [
              "<div>\n",
              "<style scoped>\n",
              "    .dataframe tbody tr th:only-of-type {\n",
              "        vertical-align: middle;\n",
              "    }\n",
              "\n",
              "    .dataframe tbody tr th {\n",
              "        vertical-align: top;\n",
              "    }\n",
              "\n",
              "    .dataframe thead th {\n",
              "        text-align: right;\n",
              "    }\n",
              "</style>\n",
              "<table border=\"1\" class=\"dataframe\">\n",
              "  <thead>\n",
              "    <tr style=\"text-align: right;\">\n",
              "      <th></th>\n",
              "      <th>postal_code</th>\n",
              "      <th>date</th>\n",
              "      <th>daily_data_points</th>\n",
              "      <th>day_of_week</th>\n",
              "      <th>day_type</th>\n",
              "      <th>total_bluecars_taken</th>\n",
              "      <th>total_bluecars_returned</th>\n",
              "      <th>month</th>\n",
              "    </tr>\n",
              "  </thead>\n",
              "  <tbody>\n",
              "    <tr>\n",
              "      <th>0</th>\n",
              "      <td>75001</td>\n",
              "      <td>2018-01-01</td>\n",
              "      <td>1440</td>\n",
              "      <td>monday</td>\n",
              "      <td>weekday</td>\n",
              "      <td>110</td>\n",
              "      <td>103</td>\n",
              "      <td>January</td>\n",
              "    </tr>\n",
              "    <tr>\n",
              "      <th>1</th>\n",
              "      <td>75001</td>\n",
              "      <td>2018-01-02</td>\n",
              "      <td>1438</td>\n",
              "      <td>tuesday</td>\n",
              "      <td>weekday</td>\n",
              "      <td>98</td>\n",
              "      <td>94</td>\n",
              "      <td>January</td>\n",
              "    </tr>\n",
              "    <tr>\n",
              "      <th>2</th>\n",
              "      <td>75001</td>\n",
              "      <td>2018-01-03</td>\n",
              "      <td>1439</td>\n",
              "      <td>wednesday</td>\n",
              "      <td>weekday</td>\n",
              "      <td>138</td>\n",
              "      <td>139</td>\n",
              "      <td>January</td>\n",
              "    </tr>\n",
              "    <tr>\n",
              "      <th>3</th>\n",
              "      <td>75001</td>\n",
              "      <td>2018-01-04</td>\n",
              "      <td>1320</td>\n",
              "      <td>thursday</td>\n",
              "      <td>weekday</td>\n",
              "      <td>104</td>\n",
              "      <td>104</td>\n",
              "      <td>January</td>\n",
              "    </tr>\n",
              "    <tr>\n",
              "      <th>4</th>\n",
              "      <td>75001</td>\n",
              "      <td>2018-01-05</td>\n",
              "      <td>1440</td>\n",
              "      <td>friday</td>\n",
              "      <td>weekday</td>\n",
              "      <td>114</td>\n",
              "      <td>117</td>\n",
              "      <td>January</td>\n",
              "    </tr>\n",
              "  </tbody>\n",
              "</table>\n",
              "</div>"
            ],
            "text/plain": [
              "   postal_code       date  ...  total_bluecars_returned    month\n",
              "0        75001 2018-01-01  ...                      103  January\n",
              "1        75001 2018-01-02  ...                       94  January\n",
              "2        75001 2018-01-03  ...                      139  January\n",
              "3        75001 2018-01-04  ...                      104  January\n",
              "4        75001 2018-01-05  ...                      117  January\n",
              "\n",
              "[5 rows x 8 columns]"
            ]
          },
          "metadata": {
            "tags": []
          },
          "execution_count": 68
        }
      ]
    },
    {
      "cell_type": "markdown",
      "metadata": {
        "id": "IrJYLLImU-qH",
        "colab_type": "text"
      },
      "source": [
        "## Outliers"
      ]
    },
    {
      "cell_type": "code",
      "metadata": {
        "id": "eGX8huzVVM8l",
        "colab_type": "code",
        "colab": {
          "base_uri": "https://localhost:8080/",
          "height": 426
        },
        "outputId": "7de4b4cc-469a-4c6f-9021-8d6d479d1123"
      },
      "source": [
        "# Checking for Outliers\n",
        "\n",
        "fig, ax = plt.subplots(1,2, figsize=(20,8))\n",
        "fig.suptitle('Boxplots')\n",
        "sns.boxplot(data=data, y = \"total_bluecars_taken\", ax=ax[0])\n",
        "ax[0].set_title('Box Plot of Blue Cars Taken')\n",
        "sns.boxplot(data=data, y = \"total_bluecars_returned\", ax=ax[1])\n",
        "ax[1].set_title('Box Plot of Blue Cars Returned')\n",
        "\n",
        "\n",
        "plt.show()\n",
        "\n"
      ],
      "execution_count": 69,
      "outputs": [
        {
          "output_type": "display_data",
          "data": {
            "image/png": "[encoded data removed]",
            "text/plain": [
              "<Figure size 1440x576 with 2 Axes>"
            ]
          },
          "metadata": {
            "tags": [],
            "needs_background": "light"
          }
        }
      ]
    },
    {
      "cell_type": "markdown",
      "metadata": {
        "id": "qqkOForyegwW",
        "colab_type": "text"
      },
      "source": [
        ">* There are several 'outliers' in the dataset for the number of blue cars taken and returned. However, there is no sufficient evidence that point to the likelihhod of these outliers being erroneous records. Since the outliers could be valid observations, we will not delete them."
      ]
    },
    {
      "cell_type": "markdown",
      "metadata": {
        "id": "y8-eeeQnVICU",
        "colab_type": "text"
      },
      "source": [
        "## Anomalies"
      ]
    },
    {
      "cell_type": "code",
      "metadata": {
        "id": "wuZU8BSof6v7",
        "colab_type": "code",
        "colab": {
          "base_uri": "https://localhost:8080/",
          "height": 34
        },
        "outputId": "c2028afd-6823-480f-e5b6-827dc38e94c4"
      },
      "source": [
        "# Checking for Anomalies\n",
        "# 'blue cars taken' variable\n",
        "\n",
        "q1_taken = data['total_bluecars_taken'].quantile(.25)\n",
        "q3_taken = data['total_bluecars_taken'].quantile(.75)\n",
        "\n",
        "iqr_taken = q3_taken - q1_taken\n",
        "\n",
        "# 'blue cars returned' variable\n",
        "q1_returned = data['total_bluecars_returned'].quantile(.25)\n",
        "q3_returned = data['total_bluecars_returned'].quantile(.75)\n",
        "\n",
        "iqr_returned = q3_returned - q1_returned\n",
        "\n",
        "# 'available data points' variable\n",
        "q1_points = data['daily_data_points'].quantile(.25)\n",
        "q3_points = data['daily_data_points'].quantile(.75)\n",
        "\n",
        "iqr_points = q3_points - q1_points\n",
        "\n",
        "print(iqr_taken, iqr_returned, iqr_points) \n",
        "\n"
      ],
      "execution_count": 70,
      "outputs": [
        {
          "output_type": "stream",
          "text": [
            "115.0 115.0 1.0\n"
          ],
          "name": "stdout"
        }
      ]
    },
    {
      "cell_type": "markdown",
      "metadata": {
        "id": "Rxr68SsEhAnP",
        "colab_type": "text"
      },
      "source": [
        "> The results show that the blue cars taken and blue cars returned attributes both have 115 records that are not within the middle 50% of the records in those columns.\n",
        "\n",
        "> The daily available data points attribute has only 1 record that does not lie within the upper and lower bounds."
      ]
    },
    {
      "cell_type": "markdown",
      "metadata": {
        "id": "ZJIp-PtPVJoT",
        "colab_type": "text"
      },
      "source": [
        "## Missing Values"
      ]
    },
    {
      "cell_type": "code",
      "metadata": {
        "id": "21vDciiZh9gL",
        "colab_type": "code",
        "colab": {
          "base_uri": "https://localhost:8080/",
          "height": 170
        },
        "outputId": "a70f019a-0d54-4757-f67e-5f6c6199c121"
      },
      "source": [
        "# Confirming that there are no nulls \n",
        "\n",
        "data.isnull().sum()"
      ],
      "execution_count": 71,
      "outputs": [
        {
          "output_type": "execute_result",
          "data": {
            "text/plain": [
              "postal_code                0\n",
              "date                       0\n",
              "daily_data_points          0\n",
              "day_of_week                0\n",
              "day_type                   0\n",
              "total_bluecars_taken       0\n",
              "total_bluecars_returned    0\n",
              "month                      0\n",
              "dtype: int64"
            ]
          },
          "metadata": {
            "tags": []
          },
          "execution_count": 71
        }
      ]
    },
    {
      "cell_type": "markdown",
      "metadata": {
        "id": "whVnpU5fKHyA",
        "colab_type": "text"
      },
      "source": [
        "# Exploratory Analysis"
      ]
    },
    {
      "cell_type": "markdown",
      "metadata": {
        "id": "k4m__VdlKSAA",
        "colab_type": "text"
      },
      "source": [
        "## Univariate Analysis"
      ]
    },
    {
      "cell_type": "markdown",
      "metadata": {
        "id": "uFIXyzWgKVWM",
        "colab_type": "text"
      },
      "source": [
        "### Visualizations"
      ]
    },
    {
      "cell_type": "markdown",
      "metadata": {
        "id": "V-2yF1kpiLZL",
        "colab_type": "text"
      },
      "source": [
        "> Ploting various univariate summaries and recording observations"
      ]
    },
    {
      "cell_type": "code",
      "metadata": {
        "id": "mNn-Pq0YiH68",
        "colab_type": "code",
        "colab": {
          "base_uri": "https://localhost:8080/",
          "height": 221
        },
        "outputId": "1b999a60-5e17-4ae2-8d4a-1b1a1a4229cc"
      },
      "source": [
        "# frequency table for the postal code attribute\n",
        "\n",
        "data.postal_code.value_counts()"
      ],
      "execution_count": 72,
      "outputs": [
        {
          "output_type": "execute_result",
          "data": {
            "text/plain": [
              "94130    156\n",
              "92310    156\n",
              "78140    156\n",
              "94700    156\n",
              "95100    156\n",
              "        ... \n",
              "93150    151\n",
              "93370    149\n",
              "92340    147\n",
              "93200    126\n",
              "93390     84\n",
              "Name: postal_code, Length: 104, dtype: int64"
            ]
          },
          "metadata": {
            "tags": []
          },
          "execution_count": 72
        }
      ]
    },
    {
      "cell_type": "code",
      "metadata": {
        "id": "muypiWiCiqxt",
        "colab_type": "code",
        "colab": {
          "base_uri": "https://localhost:8080/",
          "height": 153
        },
        "outputId": "78b3098d-9cbc-44a3-8acd-dc66e98ef213"
      },
      "source": [
        "# How often does each day of the week appear?\n",
        "\n",
        "data.day_of_week.value_counts()"
      ],
      "execution_count": 73,
      "outputs": [
        {
          "output_type": "execute_result",
          "data": {
            "text/plain": [
              "monday       2374\n",
              "tuesday      2363\n",
              "sunday       2274\n",
              "friday       2271\n",
              "thursday     2268\n",
              "wednesday    2268\n",
              "saturday     2267\n",
              "Name: day_of_week, dtype: int64"
            ]
          },
          "metadata": {
            "tags": []
          },
          "execution_count": 73
        }
      ]
    },
    {
      "cell_type": "code",
      "metadata": {
        "id": "D9rMWNaykFj6",
        "colab_type": "code",
        "colab": {
          "base_uri": "https://localhost:8080/",
          "height": 68
        },
        "outputId": "d3dbf5c2-06a6-4237-e085-4fa77e66ce01"
      },
      "source": [
        "# How often does each day type appear?\n",
        "\n",
        "data.day_type.value_counts()"
      ],
      "execution_count": 74,
      "outputs": [
        {
          "output_type": "execute_result",
          "data": {
            "text/plain": [
              "weekday    11544\n",
              "weekend     4541\n",
              "Name: day_type, dtype: int64"
            ]
          },
          "metadata": {
            "tags": []
          },
          "execution_count": 74
        }
      ]
    },
    {
      "cell_type": "code",
      "metadata": {
        "id": "s8d5pv9dj-wD",
        "colab_type": "code",
        "colab": {
          "base_uri": "https://localhost:8080/",
          "height": 488
        },
        "outputId": "06f09533-a278-4c9b-c8f7-f66b4fe86d8f"
      },
      "source": [
        "# plotting histograms to show the distribution of blue cars taken and returned\n",
        "\n",
        "fig,ax=plt.subplots(1,2,figsize=(20,10))\n",
        "data['total_bluecars_taken'].plot.hist(ax=ax[0],bins=5,edgecolor='black',color='mediumvioletred')\n",
        "ax[0].set_title('Distribution of Blue Cars Picked Up')\n",
        "x1=list(range(0,85,5))\n",
        "ax[0].set_xticks(x1)\n",
        "data['total_bluecars_returned'].plot.hist(ax=ax[1],color='royalblue',bins=5,edgecolor='black')\n",
        "ax[1].set_title('Distribution of Blue Cars Returned')\n",
        "x2=list(range(0,20,2))\n",
        "ax[1].set_xticks(x2)\n",
        "plt.show()"
      ],
      "execution_count": 75,
      "outputs": [
        {
          "output_type": "display_data",
          "data": {
            "image/png": "[encoded data removed]",
            "text/plain": [
              "<Figure size 1440x720 with 2 Axes>"
            ]
          },
          "metadata": {
            "tags": [],
            "needs_background": "light"
          }
        }
      ]
    },
    {
      "cell_type": "markdown",
      "metadata": {
        "id": "vS5Yewszbz71",
        "colab_type": "text"
      },
      "source": [
        "> We notice that the two attributes above do not follow a normal distribution. Instead, they are skewed to the right."
      ]
    },
    {
      "cell_type": "code",
      "metadata": {
        "id": "7TBV6qWimX4m",
        "colab_type": "code",
        "colab": {
          "base_uri": "https://localhost:8080/",
          "height": 1000
        },
        "outputId": "b8cfaa9c-6f54-4643-e7eb-361b2f404580"
      },
      "source": [
        "# Frequency distribution plots\n",
        "\n",
        "col_names = ['total_bluecars_taken','total_bluecars_returned']\n",
        "fig, ax = plt.subplots(len(col_names), figsize=(10,20))\n",
        "\n",
        "for i, col_val in enumerate(col_names):\n",
        "\n",
        "    sns.distplot(data[col_val], hist=True, ax=ax[i])\n",
        "    ax[i].set_title('Frequency distribution of '+col_val, fontsize=10)\n",
        "    ax[i].set_xlabel(col_val, fontsize=8)\n",
        "    ax[i].set_ylabel('Count', fontsize=8)\n",
        "\n",
        "plt.show()\n",
        "\n"
      ],
      "execution_count": 76,
      "outputs": [
        {
          "output_type": "display_data",
          "data": {
            "image/png": "[encoded data removed]",
            "text/plain": [
              "<Figure size 720x1440 with 2 Axes>"
            ]
          },
          "metadata": {
            "tags": [],
            "needs_background": "light"
          }
        }
      ]
    },
    {
      "cell_type": "markdown",
      "metadata": {
        "id": "JXJHmmttKYw8",
        "colab_type": "text"
      },
      "source": [
        "### Measures of Central Tendency"
      ]
    },
    {
      "cell_type": "code",
      "metadata": {
        "id": "Ky4YwvMYrcRL",
        "colab_type": "code",
        "colab": {
          "base_uri": "https://localhost:8080/",
          "height": 51
        },
        "outputId": "26bdd95a-230a-4d1f-cc45-3f9e554ec9aa"
      },
      "source": [
        "# We can check the mean, mode and median of blue cars taken in the dataset\n",
        "\n",
        "mean_taken = data['total_bluecars_taken'].mean()\n",
        "median_taken = data['total_bluecars_taken'].median()\n",
        "mode_taken = data['total_bluecars_taken'].mode()\n",
        "\n",
        "print(mean_taken, median_taken, mode_taken)\n"
      ],
      "execution_count": 77,
      "outputs": [
        {
          "output_type": "stream",
          "text": [
            "125.92695057506994 46.0 0    12\n",
            "dtype: int64\n"
          ],
          "name": "stdout"
        }
      ]
    },
    {
      "cell_type": "code",
      "metadata": {
        "id": "3Lzzg8MCsAWr",
        "colab_type": "code",
        "colab": {
          "base_uri": "https://localhost:8080/",
          "height": 51
        },
        "outputId": "51169eca-5a00-4cb5-b141-1454299a77aa"
      },
      "source": [
        "# We can check the mean, mode and median of blue cars returned in the dataset\n",
        "\n",
        "mean_returned = data['total_bluecars_returned'].mean()\n",
        "median_returned = data['total_bluecars_returned'].median()\n",
        "mode_returned = data['total_bluecars_returned'].mode()\n",
        "\n",
        "print(mean_returned, median_returned, mode_returned)"
      ],
      "execution_count": 78,
      "outputs": [
        {
          "output_type": "stream",
          "text": [
            "125.912713708424 46.0 0    13\n",
            "dtype: int64\n"
          ],
          "name": "stdout"
        }
      ]
    },
    {
      "cell_type": "markdown",
      "metadata": {
        "id": "n-gEozmiKbhE",
        "colab_type": "text"
      },
      "source": [
        "### Measures of Dispersion"
      ]
    },
    {
      "cell_type": "code",
      "metadata": {
        "id": "T5h27Y05bqvk",
        "colab_type": "code",
        "colab": {
          "base_uri": "https://localhost:8080/",
          "height": 102
        },
        "outputId": "0e0a898d-df95-4a25-b1ad-b6bec737bf7e"
      },
      "source": [
        "# Checking the various measures of dispersion for the number of blue cars taken variable\n",
        "# standard deviation, variance, range, skewness and kurtosis\n",
        "\n",
        "taken_std = data['total_bluecars_taken'].std()\n",
        "taken_var = data['total_bluecars_taken'].var()\n",
        "\n",
        "taken_max = data['total_bluecars_taken'].max()\n",
        "taken_min = data['total_bluecars_taken'].min()\n",
        "taken_range = taken_max - taken_min\n",
        "\n",
        "taken_skew = data['total_bluecars_taken'].skew()\n",
        "taken_kurt = data['total_bluecars_taken'].kurt()\n",
        "\n",
        "print('Standard Deviation is ' + str(taken_std))\n",
        "print('Variance is ' + str(taken_var))\n",
        "print('Range is ' + str(taken_range))\n",
        "print('Skewness is ' + str(taken_skew))\n",
        "print('Kurtosis is ' + str(taken_kurt))"
      ],
      "execution_count": 79,
      "outputs": [
        {
          "output_type": "stream",
          "text": [
            "Standard Deviation is 185.42657876727893\n",
            "Variance is 34383.01611333789\n",
            "Range is 1352\n",
            "Skewness is 2.4063548974959086\n",
            "Kurtosis is 6.172692305510042\n"
          ],
          "name": "stdout"
        }
      ]
    },
    {
      "cell_type": "code",
      "metadata": {
        "id": "guJp4t1LbxLN",
        "colab_type": "code",
        "colab": {
          "base_uri": "https://localhost:8080/",
          "height": 102
        },
        "outputId": "8ae4109f-ce7b-479f-a7d1-ce298759a3a8"
      },
      "source": [
        "# Checking the various measures of dispersion for the blue cars returned variable\n",
        "# standard deviation, variance, range, skewness and kurtosis\n",
        "\n",
        "returned_std = data['total_bluecars_returned'].std()\n",
        "returned_var = data['total_bluecars_returned'].var()\n",
        "\n",
        "returned_max = data['total_bluecars_returned'].max()\n",
        "returned_min = data['total_bluecars_returned'].min()\n",
        "returned_range = returned_max - returned_min\n",
        "\n",
        "returned_skew = data['total_bluecars_returned'].skew()\n",
        "returned_kurt = data['total_bluecars_returned'].kurt()\n",
        "\n",
        "print('Standard Deviation of the variable is ' + str(returned_std))\n",
        "print('Variance of the variable is ' + str(returned_var))\n",
        "print('Range of the variable is' + str(returned_range))\n",
        "print('Skewness of the variable is ' + str(returned_skew))\n",
        "print('Kurtosis of the variable is ' + str(returned_kurt))"
      ],
      "execution_count": 80,
      "outputs": [
        {
          "output_type": "stream",
          "text": [
            "Standard Deviation of the variable is 185.50153480148427\n",
            "Variance of the variable is 34410.819413706275\n",
            "Range of the variable is1332\n",
            "Skewness of the variable is 2.412084978838923\n",
            "Kurtosis of the variable is 6.1862880957582345\n"
          ],
          "name": "stdout"
        }
      ]
    },
    {
      "cell_type": "markdown",
      "metadata": {
        "id": "tkcScOzfKflQ",
        "colab_type": "text"
      },
      "source": [
        "## Bivariate Analysis"
      ]
    },
    {
      "cell_type": "markdown",
      "metadata": {
        "id": "uC1hkLDfd-G6",
        "colab_type": "text"
      },
      "source": [
        "> In this analysis, we will check various relationships between different measures and dimensions"
      ]
    },
    {
      "cell_type": "code",
      "metadata": {
        "id": "WZX0Cb2jl3wK",
        "colab_type": "code",
        "colab": {
          "base_uri": "https://localhost:8080/",
          "height": 747
        },
        "outputId": "7ec00fde-e43c-47d4-bf17-bc0fa67e81e7"
      },
      "source": [
        "# Ploting the bivariate summaries \n",
        "\n",
        "sns.pairplot(data)\n",
        "plt.show()"
      ],
      "execution_count": 81,
      "outputs": [
        {
          "output_type": "display_data",
          "data": {
            "image/png": "[encoded data removed]",
            "text/plain": [
              "<Figure size 720x720 with 20 Axes>"
            ]
          },
          "metadata": {
            "tags": [],
            "needs_background": "light"
          }
        }
      ]
    },
    {
      "cell_type": "code",
      "metadata": {
        "id": "M2ZShttvmSfY",
        "colab_type": "code",
        "colab": {
          "base_uri": "https://localhost:8080/",
          "height": 378
        },
        "outputId": "4b5adccb-6e41-410c-c140-d8e6f868c86f"
      },
      "source": [
        "# Plotting the Pearson correlation coefficient among numeric variables\n",
        "\n",
        "\n",
        "sns.heatmap(data.corr(),annot=True)\n",
        "plt.show()"
      ],
      "execution_count": 82,
      "outputs": [
        {
          "output_type": "display_data",
          "data": {
            "image/png": "[encoded data removed]",
            "text/plain": [
              "<Figure size 432x288 with 2 Axes>"
            ]
          },
          "metadata": {
            "tags": [],
            "needs_background": "light"
          }
        }
      ]
    },
    {
      "cell_type": "markdown",
      "metadata": {
        "id": "sOLj4Tg_f2_y",
        "colab_type": "text"
      },
      "source": [
        "> The number of blue cars taken and returned have a perfect positive correlation.\n",
        "\n",
        "> The correlation with the postal code can be ignored here since the postal code is a qualitative attribute even though it is coded with a numeric data type."
      ]
    },
    {
      "cell_type": "code",
      "metadata": {
        "id": "sKaDYHmUmjQu",
        "colab_type": "code",
        "colab": {
          "base_uri": "https://localhost:8080/",
          "height": 329
        },
        "outputId": "498b8e1b-39bc-4541-f987-7dbda60db292"
      },
      "source": [
        "# scatter plot of blue cars taken and blue cars returned\n",
        "\n",
        "sns.lmplot('total_bluecars_taken', \"total_bluecars_returned\", data, scatter_kws={'marker':'o', 'color': 'indianred'}, \n",
        "           line_kws={'linewidth':1,'color':'blue'}, height = 4, aspect = 2)\n",
        "\n",
        "plt.title(\"Correlation of Blue Cars Taken and Returned\")\n",
        "plt.xlabel('Blue Cars Taken')\n",
        "plt.ylabel(\"Blue Cars Returned\")"
      ],
      "execution_count": 83,
      "outputs": [
        {
          "output_type": "execute_result",
          "data": {
            "text/plain": [
              "Text(-2.5749999999999957, 0.5, 'Blue Cars Returned')"
            ]
          },
          "metadata": {
            "tags": []
          },
          "execution_count": 83
        },
        {
          "output_type": "display_data",
          "data": {
            "image/png": "[encoded data removed]",
            "text/plain": [
              "<Figure size 576x288 with 1 Axes>"
            ]
          },
          "metadata": {
            "tags": [],
            "needs_background": "light"
          }
        }
      ]
    },
    {
      "cell_type": "code",
      "metadata": {
        "id": "VUcr51qnL5yC",
        "colab_type": "code",
        "colab": {
          "base_uri": "https://localhost:8080/",
          "height": 170
        },
        "outputId": "4b757efb-71f9-414a-d662-df58062c1189"
      },
      "source": [
        "# Average number of blue cars taken by day of week\n",
        "\n",
        "data.groupby(['day_of_week'])['total_bluecars_taken'].mean()"
      ],
      "execution_count": 84,
      "outputs": [
        {
          "output_type": "execute_result",
          "data": {
            "text/plain": [
              "day_of_week\n",
              "friday       127.056803\n",
              "monday       111.159646\n",
              "saturday     156.124393\n",
              "sunday       146.071240\n",
              "thursday     116.052469\n",
              "tuesday      110.850614\n",
              "wednesday    115.453704\n",
              "Name: total_bluecars_taken, dtype: float64"
            ]
          },
          "metadata": {
            "tags": []
          },
          "execution_count": 84
        }
      ]
    },
    {
      "cell_type": "code",
      "metadata": {
        "id": "5dALjAhkM3fW",
        "colab_type": "code",
        "colab": {
          "base_uri": "https://localhost:8080/",
          "height": 170
        },
        "outputId": "328be49a-dc09-42e8-88cb-5522cefe3d72"
      },
      "source": [
        "# Average number of blue cars returned by day of week\n",
        "\n",
        "data.groupby(['day_of_week'])['total_bluecars_returned'].mean()"
      ],
      "execution_count": 85,
      "outputs": [
        {
          "output_type": "execute_result",
          "data": {
            "text/plain": [
              "day_of_week\n",
              "friday       125.948481\n",
              "monday       111.545072\n",
              "saturday     155.081606\n",
              "sunday       148.986368\n",
              "thursday     115.944004\n",
              "tuesday      110.228523\n",
              "wednesday    114.935185\n",
              "Name: total_bluecars_returned, dtype: float64"
            ]
          },
          "metadata": {
            "tags": []
          },
          "execution_count": 85
        }
      ]
    },
    {
      "cell_type": "code",
      "metadata": {
        "id": "XX4CTYSWquRj",
        "colab_type": "code",
        "colab": {
          "base_uri": "https://localhost:8080/",
          "height": 387
        },
        "outputId": "d7cf0a07-9035-4b9a-a5b7-834582053c4e"
      },
      "source": [
        "# Bar chart showing total number of blue cars picked up by day of week\n",
        "\n",
        "data.groupby('day_of_week')['total_bluecars_taken'].sum().plot(kind='bar', figsize=(10,5))\n",
        "plt.xlabel(\"Day\")\n",
        "plt.xticks(rotation=45)\n",
        "plt.ylabel(\"Number of Blue Cars Taken\")\n",
        "plt.title(\"Pick Up Rates By Day of Week\")\n",
        "plt.show()"
      ],
      "execution_count": 86,
      "outputs": [
        {
          "output_type": "display_data",
          "data": {
            "image/png": "[encoded data removed]",
            "text/plain": [
              "<Figure size 720x360 with 1 Axes>"
            ]
          },
          "metadata": {
            "tags": [],
            "needs_background": "light"
          }
        }
      ]
    },
    {
      "cell_type": "code",
      "metadata": {
        "id": "IMNPvMcwh0--",
        "colab_type": "code",
        "colab": {
          "base_uri": "https://localhost:8080/",
          "height": 387
        },
        "outputId": "c64b4085-2f4c-4089-8ea2-b3ec3b113d9f"
      },
      "source": [
        "# Bar chart showing total number of blue cars returned by day of week\n",
        "\n",
        "data.groupby('day_of_week')['total_bluecars_returned'].sum().plot(kind='bar', figsize=(10,5))\n",
        "plt.xlabel(\"Day\")\n",
        "plt.xticks(rotation=45)\n",
        "plt.ylabel(\"Number of Blue Cars Returned\")\n",
        "plt.title(\"Drop Off Rates By Day of Week\")\n",
        "plt.show()"
      ],
      "execution_count": 87,
      "outputs": [
        {
          "output_type": "display_data",
          "data": {
            "image/png": "[encoded data removed]",
            "text/plain": [
              "<Figure size 720x360 with 1 Axes>"
            ]
          },
          "metadata": {
            "tags": [],
            "needs_background": "light"
          }
        }
      ]
    },
    {
      "cell_type": "code",
      "metadata": {
        "id": "lg3T0sSkiCEa",
        "colab_type": "code",
        "colab": {
          "base_uri": "https://localhost:8080/",
          "height": 378
        },
        "outputId": "a7199c30-4c98-474e-9e5f-99b8d9593927"
      },
      "source": [
        "# Bar chart showing total number of blue cars picked up month\n",
        "\n",
        "data.groupby('month')['total_bluecars_taken'].sum().plot(kind='bar', figsize=(10,5))\n",
        "plt.xlabel(\"Month\")\n",
        "plt.xticks(rotation=45)\n",
        "plt.ylabel(\"Number of Blue Cars Taken\")\n",
        "plt.title(\"Pick Up Rates By Month\")\n",
        "plt.show()"
      ],
      "execution_count": 88,
      "outputs": [
        {
          "output_type": "display_data",
          "data": {
            "image/png": "[encoded data removed]",
            "text/plain": [
              "<Figure size 720x360 with 1 Axes>"
            ]
          },
          "metadata": {
            "tags": [],
            "needs_background": "light"
          }
        }
      ]
    },
    {
      "cell_type": "code",
      "metadata": {
        "id": "wlWq957biNoG",
        "colab_type": "code",
        "colab": {
          "base_uri": "https://localhost:8080/",
          "height": 378
        },
        "outputId": "39cbf214-5c26-4d70-bcb7-bf0a475758c3"
      },
      "source": [
        "# Bar chart showing total number of blue cars returned month\n",
        "\n",
        "data.groupby('month')['total_bluecars_returned'].sum().plot(kind='bar', figsize=(10,5))\n",
        "plt.xlabel(\"Month\")\n",
        "plt.xticks(rotation=45)\n",
        "plt.ylabel(\"Number of Blue Cars Returned\")\n",
        "plt.title(\"Drop Off Rates By Month\")\n",
        "plt.show()"
      ],
      "execution_count": 89,
      "outputs": [
        {
          "output_type": "display_data",
          "data": {
            "image/png": "[encoded data removed]",
            "text/plain": [
              "<Figure size 720x360 with 1 Axes>"
            ]
          },
          "metadata": {
            "tags": [],
            "needs_background": "light"
          }
        }
      ]
    },
    {
      "cell_type": "markdown",
      "metadata": {
        "id": "Bzq6JSV1iYUS",
        "colab_type": "text"
      },
      "source": [
        "# Specifying the Hypotheses"
      ]
    },
    {
      "cell_type": "markdown",
      "metadata": {
        "id": "CP4h7ZeYRcey",
        "colab_type": "text"
      },
      "source": [
        "> A quick google search shows that postal codes in France are organized by departments (which can also be described as cities). For instance, all postal codes for Paris begin with the number 75. To compress the dataset, we can group various Paris postal codes into one since they represent a similar geographical location i.e. city of Paris. We can do this for all other postal codes. As mentioned earlier, this analysis will focus on comparing the weekend blue car usage rates for Paris and Hauts-de-Seine.\n"
      ]
    },
    {
      "cell_type": "markdown",
      "metadata": {
        "id": "ka0B23J-iiUD",
        "colab_type": "text"
      },
      "source": [
        "> Null Hypothesis: For both Paris and Hauts-de-Seine the average number of blue cars picked up during weekends is the same.\n",
        "\n",
        ">    Ho : μ1 = μ2 (where μ1 is the mean for Paris and μ2 is the mean for Hauts-de-Seine)\n",
        "\n",
        "> Alternate Hypothesis: The average number of blue cars picked up during the weekend is not the same for Paris and Hauts-de-Seine.\n",
        "\n",
        ">    Ha : μ1 ≠ μ2"
      ]
    },
    {
      "cell_type": "code",
      "metadata": {
        "id": "oyRXOMY6R2YD",
        "colab_type": "code",
        "colab": {
          "base_uri": "https://localhost:8080/",
          "height": 221
        },
        "outputId": "2a92c8ab-e036-4365-eaab-62d11c2c7136"
      },
      "source": [
        "# Checking all unique postal codes in the dataset\n",
        "\n",
        "data['postal_code'].unique()"
      ],
      "execution_count": 90,
      "outputs": [
        {
          "output_type": "execute_result",
          "data": {
            "text/plain": [
              "array([75001, 75002, 75003, 75004, 75005, 75006, 75007, 75008, 75009,\n",
              "       75010, 75011, 75012, 75013, 75014, 75015, 75016, 75017, 75018,\n",
              "       75019, 75020, 75112, 75116, 78000, 78140, 78150, 91330, 91370,\n",
              "       91400, 92000, 92100, 92110, 92120, 92130, 92140, 92150, 92160,\n",
              "       92170, 92190, 92200, 92210, 92220, 92230, 92240, 92250, 92260,\n",
              "       92270, 92290, 92300, 92310, 92320, 92330, 92340, 92350, 92360,\n",
              "       92370, 92380, 92390, 92400, 92410, 92420, 92500, 92600, 92700,\n",
              "       92800, 93100, 93110, 93130, 93150, 93170, 93200, 93230, 93260,\n",
              "       93300, 93310, 93350, 93360, 93370, 93390, 93400, 93440, 93500,\n",
              "       93600, 93700, 93800, 94000, 94100, 94110, 94120, 94130, 94140,\n",
              "       94150, 94160, 94220, 94230, 94300, 94340, 94410, 94450, 94500,\n",
              "       94700, 94800, 95100, 95870, 95880])"
            ]
          },
          "metadata": {
            "tags": []
          },
          "execution_count": 90
        }
      ]
    },
    {
      "cell_type": "code",
      "metadata": {
        "id": "t0Xf8BQ0S5z8",
        "colab_type": "code",
        "colab": {
          "base_uri": "https://localhost:8080/",
          "height": 309
        },
        "outputId": "b9d7b887-294c-4658-a2b9-b2460bc911f1"
      },
      "source": [
        "# Coding all postal codes with the city they represent\n",
        "\n",
        "# create a list of our conditions\n",
        "conditions = [\n",
        "    (data['postal_code'] >= 75000) & (data['postal_code'] <= 75999),\n",
        "    (data['postal_code'] >= 78000) & (data['postal_code'] <= 78999),\n",
        "    (data['postal_code'] >= 91000) & (data['postal_code'] <= 91999),\n",
        "    (data['postal_code'] >= 92000) & (data['postal_code'] <= 92999),\n",
        "    (data['postal_code'] >= 93000) & (data['postal_code'] <= 93999),\n",
        "    (data['postal_code'] >= 94000) & (data['postal_code'] <= 94999),\n",
        "    (data['postal_code'] >= 95000) & (data['postal_code'] <= 95999),\n",
        "    ]\n",
        "\n",
        "# create a list of the values we want to assign for each condition\n",
        "values = ['Paris', 'Yvelines', 'Essonne', 'Hauts-de-Seine', 'Seine-Saint_Denis', 'Val-de-Marne', 'Val-dOise']\n",
        "\n",
        "# create a new column and use np.select to assign values to it using our lists as arguments\n",
        "data['city'] = np.select(conditions, values)\n",
        "\n",
        "# display updated DataFrame\n",
        "data.head()"
      ],
      "execution_count": 91,
      "outputs": [
        {
          "output_type": "execute_result",
          "data": {
            "text/html": [
              "<div>\n",
              "<style scoped>\n",
              "    .dataframe tbody tr th:only-of-type {\n",
              "        vertical-align: middle;\n",
              "    }\n",
              "\n",
              "    .dataframe tbody tr th {\n",
              "        vertical-align: top;\n",
              "    }\n",
              "\n",
              "    .dataframe thead th {\n",
              "        text-align: right;\n",
              "    }\n",
              "</style>\n",
              "<table border=\"1\" class=\"dataframe\">\n",
              "  <thead>\n",
              "    <tr style=\"text-align: right;\">\n",
              "      <th></th>\n",
              "      <th>postal_code</th>\n",
              "      <th>date</th>\n",
              "      <th>daily_data_points</th>\n",
              "      <th>day_of_week</th>\n",
              "      <th>day_type</th>\n",
              "      <th>total_bluecars_taken</th>\n",
              "      <th>total_bluecars_returned</th>\n",
              "      <th>month</th>\n",
              "      <th>city</th>\n",
              "    </tr>\n",
              "  </thead>\n",
              "  <tbody>\n",
              "    <tr>\n",
              "      <th>0</th>\n",
              "      <td>75001</td>\n",
              "      <td>2018-01-01</td>\n",
              "      <td>1440</td>\n",
              "      <td>monday</td>\n",
              "      <td>weekday</td>\n",
              "      <td>110</td>\n",
              "      <td>103</td>\n",
              "      <td>January</td>\n",
              "      <td>Paris</td>\n",
              "    </tr>\n",
              "    <tr>\n",
              "      <th>1</th>\n",
              "      <td>75001</td>\n",
              "      <td>2018-01-02</td>\n",
              "      <td>1438</td>\n",
              "      <td>tuesday</td>\n",
              "      <td>weekday</td>\n",
              "      <td>98</td>\n",
              "      <td>94</td>\n",
              "      <td>January</td>\n",
              "      <td>Paris</td>\n",
              "    </tr>\n",
              "    <tr>\n",
              "      <th>2</th>\n",
              "      <td>75001</td>\n",
              "      <td>2018-01-03</td>\n",
              "      <td>1439</td>\n",
              "      <td>wednesday</td>\n",
              "      <td>weekday</td>\n",
              "      <td>138</td>\n",
              "      <td>139</td>\n",
              "      <td>January</td>\n",
              "      <td>Paris</td>\n",
              "    </tr>\n",
              "    <tr>\n",
              "      <th>3</th>\n",
              "      <td>75001</td>\n",
              "      <td>2018-01-04</td>\n",
              "      <td>1320</td>\n",
              "      <td>thursday</td>\n",
              "      <td>weekday</td>\n",
              "      <td>104</td>\n",
              "      <td>104</td>\n",
              "      <td>January</td>\n",
              "      <td>Paris</td>\n",
              "    </tr>\n",
              "    <tr>\n",
              "      <th>4</th>\n",
              "      <td>75001</td>\n",
              "      <td>2018-01-05</td>\n",
              "      <td>1440</td>\n",
              "      <td>friday</td>\n",
              "      <td>weekday</td>\n",
              "      <td>114</td>\n",
              "      <td>117</td>\n",
              "      <td>January</td>\n",
              "      <td>Paris</td>\n",
              "    </tr>\n",
              "  </tbody>\n",
              "</table>\n",
              "</div>"
            ],
            "text/plain": [
              "   postal_code       date  ...    month   city\n",
              "0        75001 2018-01-01  ...  January  Paris\n",
              "1        75001 2018-01-02  ...  January  Paris\n",
              "2        75001 2018-01-03  ...  January  Paris\n",
              "3        75001 2018-01-04  ...  January  Paris\n",
              "4        75001 2018-01-05  ...  January  Paris\n",
              "\n",
              "[5 rows x 9 columns]"
            ]
          },
          "metadata": {
            "tags": []
          },
          "execution_count": 91
        }
      ]
    },
    {
      "cell_type": "code",
      "metadata": {
        "id": "uCI9PF2VVsZM",
        "colab_type": "code",
        "colab": {
          "base_uri": "https://localhost:8080/",
          "height": 51
        },
        "outputId": "466bd281-6756-4630-bb97-87bd3b2ed186"
      },
      "source": [
        "# Checking the new city attribute\n",
        "\n",
        "data['city'].unique()"
      ],
      "execution_count": 92,
      "outputs": [
        {
          "output_type": "execute_result",
          "data": {
            "text/plain": [
              "array(['Paris', 'Yvelines', 'Essonne', 'Hauts-de-Seine',\n",
              "       'Seine-Saint_Denis', 'Val-de-Marne', 'Val-dOise'], dtype=object)"
            ]
          },
          "metadata": {
            "tags": []
          },
          "execution_count": 92
        }
      ]
    },
    {
      "cell_type": "markdown",
      "metadata": {
        "id": "8wJfZ1j-qp7n",
        "colab_type": "text"
      },
      "source": [
        "# Sampling Approach"
      ]
    },
    {
      "cell_type": "markdown",
      "metadata": {
        "id": "xImQFEYVxc30",
        "colab_type": "text"
      },
      "source": [
        "> Since we want to compare samples from two different cities i.e usage in Paris versus Hauts-de-Seine, stratified random sampling is the best sampling technique to use. In this case, the ‘city’ becomes the only strata useful in our sampling technique. Pick up and drop off stations are unique to postal codes/city. A pick up station can only exists in one postal code or city. Therefore, a car pick up or drop off recorded in a particular station belongs to a unique city. Using only one strata ensures that each record of usage has an equal chance of being selected during sampling. Each stratum has no overlapping sample therefore no bias in the sampling technique.\n",
        "\n",
        "> In addition, the sample chosen needs to reflect the structure of the target dataset. Our selected sample should reflect this distribution to ensure that it is as representative to the entire target population as possible. To execute the sampling, we would split the target population into the two stratum and order each record from 1 to N for both Paris and Hauts-de-Seine stratum. We need the sample size of each strata to be proportionate to the target population size of that particular strata.\n"
      ]
    },
    {
      "cell_type": "code",
      "metadata": {
        "id": "p-9aC1xE0BB0",
        "colab_type": "code",
        "colab": {
          "base_uri": "https://localhost:8080/",
          "height": 694
        },
        "outputId": "1d4f4105-24ea-427a-8728-c58deaee49d8"
      },
      "source": [
        "# Creating a new dataframe with only Paris and Hauts-de-Seine\n",
        "# and only weekend records which is the target records\n",
        "\n",
        "data_final = data.loc[data['city'].isin(['Paris','Hauts-de-Seine']) & data['day_type'].isin(['weekend'])]\n",
        "data_final"
      ],
      "execution_count": 93,
      "outputs": [
        {
          "output_type": "execute_result",
          "data": {
            "text/html": [
              "<div>\n",
              "<style scoped>\n",
              "    .dataframe tbody tr th:only-of-type {\n",
              "        vertical-align: middle;\n",
              "    }\n",
              "\n",
              "    .dataframe tbody tr th {\n",
              "        vertical-align: top;\n",
              "    }\n",
              "\n",
              "    .dataframe thead th {\n",
              "        text-align: right;\n",
              "    }\n",
              "</style>\n",
              "<table border=\"1\" class=\"dataframe\">\n",
              "  <thead>\n",
              "    <tr style=\"text-align: right;\">\n",
              "      <th></th>\n",
              "      <th>postal_code</th>\n",
              "      <th>date</th>\n",
              "      <th>daily_data_points</th>\n",
              "      <th>day_of_week</th>\n",
              "      <th>day_type</th>\n",
              "      <th>total_bluecars_taken</th>\n",
              "      <th>total_bluecars_returned</th>\n",
              "      <th>month</th>\n",
              "      <th>city</th>\n",
              "    </tr>\n",
              "  </thead>\n",
              "  <tbody>\n",
              "    <tr>\n",
              "      <th>5</th>\n",
              "      <td>75001</td>\n",
              "      <td>2018-01-06</td>\n",
              "      <td>1437</td>\n",
              "      <td>saturday</td>\n",
              "      <td>weekend</td>\n",
              "      <td>187</td>\n",
              "      <td>185</td>\n",
              "      <td>January</td>\n",
              "      <td>Paris</td>\n",
              "    </tr>\n",
              "    <tr>\n",
              "      <th>6</th>\n",
              "      <td>75001</td>\n",
              "      <td>2018-01-07</td>\n",
              "      <td>1440</td>\n",
              "      <td>sunday</td>\n",
              "      <td>weekend</td>\n",
              "      <td>180</td>\n",
              "      <td>180</td>\n",
              "      <td>January</td>\n",
              "      <td>Paris</td>\n",
              "    </tr>\n",
              "    <tr>\n",
              "      <th>12</th>\n",
              "      <td>75001</td>\n",
              "      <td>2018-01-13</td>\n",
              "      <td>1440</td>\n",
              "      <td>saturday</td>\n",
              "      <td>weekend</td>\n",
              "      <td>224</td>\n",
              "      <td>223</td>\n",
              "      <td>January</td>\n",
              "      <td>Paris</td>\n",
              "    </tr>\n",
              "    <tr>\n",
              "      <th>13</th>\n",
              "      <td>75001</td>\n",
              "      <td>2018-01-14</td>\n",
              "      <td>1440</td>\n",
              "      <td>sunday</td>\n",
              "      <td>weekend</td>\n",
              "      <td>193</td>\n",
              "      <td>193</td>\n",
              "      <td>January</td>\n",
              "      <td>Paris</td>\n",
              "    </tr>\n",
              "    <tr>\n",
              "      <th>19</th>\n",
              "      <td>75001</td>\n",
              "      <td>2018-01-20</td>\n",
              "      <td>1439</td>\n",
              "      <td>saturday</td>\n",
              "      <td>weekend</td>\n",
              "      <td>217</td>\n",
              "      <td>217</td>\n",
              "      <td>January</td>\n",
              "      <td>Paris</td>\n",
              "    </tr>\n",
              "    <tr>\n",
              "      <th>...</th>\n",
              "      <td>...</td>\n",
              "      <td>...</td>\n",
              "      <td>...</td>\n",
              "      <td>...</td>\n",
              "      <td>...</td>\n",
              "      <td>...</td>\n",
              "      <td>...</td>\n",
              "      <td>...</td>\n",
              "      <td>...</td>\n",
              "    </tr>\n",
              "    <tr>\n",
              "      <th>9950</th>\n",
              "      <td>92800</td>\n",
              "      <td>2018-06-03</td>\n",
              "      <td>1440</td>\n",
              "      <td>sunday</td>\n",
              "      <td>weekend</td>\n",
              "      <td>111</td>\n",
              "      <td>118</td>\n",
              "      <td>June</td>\n",
              "      <td>Hauts-de-Seine</td>\n",
              "    </tr>\n",
              "    <tr>\n",
              "      <th>9956</th>\n",
              "      <td>92800</td>\n",
              "      <td>2018-06-09</td>\n",
              "      <td>1440</td>\n",
              "      <td>saturday</td>\n",
              "      <td>weekend</td>\n",
              "      <td>117</td>\n",
              "      <td>110</td>\n",
              "      <td>June</td>\n",
              "      <td>Hauts-de-Seine</td>\n",
              "    </tr>\n",
              "    <tr>\n",
              "      <th>9957</th>\n",
              "      <td>92800</td>\n",
              "      <td>2018-06-10</td>\n",
              "      <td>1440</td>\n",
              "      <td>sunday</td>\n",
              "      <td>weekend</td>\n",
              "      <td>97</td>\n",
              "      <td>113</td>\n",
              "      <td>June</td>\n",
              "      <td>Hauts-de-Seine</td>\n",
              "    </tr>\n",
              "    <tr>\n",
              "      <th>9963</th>\n",
              "      <td>92800</td>\n",
              "      <td>2018-06-16</td>\n",
              "      <td>1440</td>\n",
              "      <td>saturday</td>\n",
              "      <td>weekend</td>\n",
              "      <td>115</td>\n",
              "      <td>112</td>\n",
              "      <td>June</td>\n",
              "      <td>Hauts-de-Seine</td>\n",
              "    </tr>\n",
              "    <tr>\n",
              "      <th>9964</th>\n",
              "      <td>92800</td>\n",
              "      <td>2018-06-17</td>\n",
              "      <td>1440</td>\n",
              "      <td>sunday</td>\n",
              "      <td>weekend</td>\n",
              "      <td>102</td>\n",
              "      <td>106</td>\n",
              "      <td>June</td>\n",
              "      <td>Hauts-de-Seine</td>\n",
              "    </tr>\n",
              "  </tbody>\n",
              "</table>\n",
              "<p>2546 rows × 9 columns</p>\n",
              "</div>"
            ],
            "text/plain": [
              "      postal_code       date  ...    month            city\n",
              "5           75001 2018-01-06  ...  January           Paris\n",
              "6           75001 2018-01-07  ...  January           Paris\n",
              "12          75001 2018-01-13  ...  January           Paris\n",
              "13          75001 2018-01-14  ...  January           Paris\n",
              "19          75001 2018-01-20  ...  January           Paris\n",
              "...           ...        ...  ...      ...             ...\n",
              "9950        92800 2018-06-03  ...     June  Hauts-de-Seine\n",
              "9956        92800 2018-06-09  ...     June  Hauts-de-Seine\n",
              "9957        92800 2018-06-10  ...     June  Hauts-de-Seine\n",
              "9963        92800 2018-06-16  ...     June  Hauts-de-Seine\n",
              "9964        92800 2018-06-17  ...     June  Hauts-de-Seine\n",
              "\n",
              "[2546 rows x 9 columns]"
            ]
          },
          "metadata": {
            "tags": []
          },
          "execution_count": 93
        }
      ]
    },
    {
      "cell_type": "code",
      "metadata": {
        "id": "VI9CKqtL0nME",
        "colab_type": "code",
        "colab": {
          "base_uri": "https://localhost:8080/",
          "height": 261
        },
        "outputId": "ab0e6df3-fcef-4a67-a813-e9638b64012c"
      },
      "source": [
        "data_final.head(4)"
      ],
      "execution_count": 94,
      "outputs": [
        {
          "output_type": "execute_result",
          "data": {
            "text/html": [
              "<div>\n",
              "<style scoped>\n",
              "    .dataframe tbody tr th:only-of-type {\n",
              "        vertical-align: middle;\n",
              "    }\n",
              "\n",
              "    .dataframe tbody tr th {\n",
              "        vertical-align: top;\n",
              "    }\n",
              "\n",
              "    .dataframe thead th {\n",
              "        text-align: right;\n",
              "    }\n",
              "</style>\n",
              "<table border=\"1\" class=\"dataframe\">\n",
              "  <thead>\n",
              "    <tr style=\"text-align: right;\">\n",
              "      <th></th>\n",
              "      <th>postal_code</th>\n",
              "      <th>date</th>\n",
              "      <th>daily_data_points</th>\n",
              "      <th>day_of_week</th>\n",
              "      <th>day_type</th>\n",
              "      <th>total_bluecars_taken</th>\n",
              "      <th>total_bluecars_returned</th>\n",
              "      <th>month</th>\n",
              "      <th>city</th>\n",
              "    </tr>\n",
              "  </thead>\n",
              "  <tbody>\n",
              "    <tr>\n",
              "      <th>5</th>\n",
              "      <td>75001</td>\n",
              "      <td>2018-01-06</td>\n",
              "      <td>1437</td>\n",
              "      <td>saturday</td>\n",
              "      <td>weekend</td>\n",
              "      <td>187</td>\n",
              "      <td>185</td>\n",
              "      <td>January</td>\n",
              "      <td>Paris</td>\n",
              "    </tr>\n",
              "    <tr>\n",
              "      <th>6</th>\n",
              "      <td>75001</td>\n",
              "      <td>2018-01-07</td>\n",
              "      <td>1440</td>\n",
              "      <td>sunday</td>\n",
              "      <td>weekend</td>\n",
              "      <td>180</td>\n",
              "      <td>180</td>\n",
              "      <td>January</td>\n",
              "      <td>Paris</td>\n",
              "    </tr>\n",
              "    <tr>\n",
              "      <th>12</th>\n",
              "      <td>75001</td>\n",
              "      <td>2018-01-13</td>\n",
              "      <td>1440</td>\n",
              "      <td>saturday</td>\n",
              "      <td>weekend</td>\n",
              "      <td>224</td>\n",
              "      <td>223</td>\n",
              "      <td>January</td>\n",
              "      <td>Paris</td>\n",
              "    </tr>\n",
              "    <tr>\n",
              "      <th>13</th>\n",
              "      <td>75001</td>\n",
              "      <td>2018-01-14</td>\n",
              "      <td>1440</td>\n",
              "      <td>sunday</td>\n",
              "      <td>weekend</td>\n",
              "      <td>193</td>\n",
              "      <td>193</td>\n",
              "      <td>January</td>\n",
              "      <td>Paris</td>\n",
              "    </tr>\n",
              "  </tbody>\n",
              "</table>\n",
              "</div>"
            ],
            "text/plain": [
              "    postal_code       date  ...    month   city\n",
              "5         75001 2018-01-06  ...  January  Paris\n",
              "6         75001 2018-01-07  ...  January  Paris\n",
              "12        75001 2018-01-13  ...  January  Paris\n",
              "13        75001 2018-01-14  ...  January  Paris\n",
              "\n",
              "[4 rows x 9 columns]"
            ]
          },
          "metadata": {
            "tags": []
          },
          "execution_count": 94
        }
      ]
    },
    {
      "cell_type": "code",
      "metadata": {
        "id": "i0ilKspF0qxP",
        "colab_type": "code",
        "colab": {
          "base_uri": "https://localhost:8080/",
          "height": 329
        },
        "outputId": "ce8ff644-7ca0-44b1-ede9-2c1f90fe0872"
      },
      "source": [
        "data_final.tail(4)"
      ],
      "execution_count": 95,
      "outputs": [
        {
          "output_type": "execute_result",
          "data": {
            "text/html": [
              "<div>\n",
              "<style scoped>\n",
              "    .dataframe tbody tr th:only-of-type {\n",
              "        vertical-align: middle;\n",
              "    }\n",
              "\n",
              "    .dataframe tbody tr th {\n",
              "        vertical-align: top;\n",
              "    }\n",
              "\n",
              "    .dataframe thead th {\n",
              "        text-align: right;\n",
              "    }\n",
              "</style>\n",
              "<table border=\"1\" class=\"dataframe\">\n",
              "  <thead>\n",
              "    <tr style=\"text-align: right;\">\n",
              "      <th></th>\n",
              "      <th>postal_code</th>\n",
              "      <th>date</th>\n",
              "      <th>daily_data_points</th>\n",
              "      <th>day_of_week</th>\n",
              "      <th>day_type</th>\n",
              "      <th>total_bluecars_taken</th>\n",
              "      <th>total_bluecars_returned</th>\n",
              "      <th>month</th>\n",
              "      <th>city</th>\n",
              "    </tr>\n",
              "  </thead>\n",
              "  <tbody>\n",
              "    <tr>\n",
              "      <th>9956</th>\n",
              "      <td>92800</td>\n",
              "      <td>2018-06-09</td>\n",
              "      <td>1440</td>\n",
              "      <td>saturday</td>\n",
              "      <td>weekend</td>\n",
              "      <td>117</td>\n",
              "      <td>110</td>\n",
              "      <td>June</td>\n",
              "      <td>Hauts-de-Seine</td>\n",
              "    </tr>\n",
              "    <tr>\n",
              "      <th>9957</th>\n",
              "      <td>92800</td>\n",
              "      <td>2018-06-10</td>\n",
              "      <td>1440</td>\n",
              "      <td>sunday</td>\n",
              "      <td>weekend</td>\n",
              "      <td>97</td>\n",
              "      <td>113</td>\n",
              "      <td>June</td>\n",
              "      <td>Hauts-de-Seine</td>\n",
              "    </tr>\n",
              "    <tr>\n",
              "      <th>9963</th>\n",
              "      <td>92800</td>\n",
              "      <td>2018-06-16</td>\n",
              "      <td>1440</td>\n",
              "      <td>saturday</td>\n",
              "      <td>weekend</td>\n",
              "      <td>115</td>\n",
              "      <td>112</td>\n",
              "      <td>June</td>\n",
              "      <td>Hauts-de-Seine</td>\n",
              "    </tr>\n",
              "    <tr>\n",
              "      <th>9964</th>\n",
              "      <td>92800</td>\n",
              "      <td>2018-06-17</td>\n",
              "      <td>1440</td>\n",
              "      <td>sunday</td>\n",
              "      <td>weekend</td>\n",
              "      <td>102</td>\n",
              "      <td>106</td>\n",
              "      <td>June</td>\n",
              "      <td>Hauts-de-Seine</td>\n",
              "    </tr>\n",
              "  </tbody>\n",
              "</table>\n",
              "</div>"
            ],
            "text/plain": [
              "      postal_code       date  ...  month            city\n",
              "9956        92800 2018-06-09  ...   June  Hauts-de-Seine\n",
              "9957        92800 2018-06-10  ...   June  Hauts-de-Seine\n",
              "9963        92800 2018-06-16  ...   June  Hauts-de-Seine\n",
              "9964        92800 2018-06-17  ...   June  Hauts-de-Seine\n",
              "\n",
              "[4 rows x 9 columns]"
            ]
          },
          "metadata": {
            "tags": []
          },
          "execution_count": 95
        }
      ]
    },
    {
      "cell_type": "code",
      "metadata": {
        "id": "bO4sAaVhzLep",
        "colab_type": "code",
        "colab": {
          "base_uri": "https://localhost:8080/",
          "height": 68
        },
        "outputId": "4d6b91a5-1bc4-499d-909d-6b61f2e4a71f"
      },
      "source": [
        "# Checking the distribution of usage/records by city\n",
        "\n",
        "data_final['city'].value_counts()"
      ],
      "execution_count": 96,
      "outputs": [
        {
          "output_type": "execute_result",
          "data": {
            "text/plain": [
              "Hauts-de-Seine    1578\n",
              "Paris              968\n",
              "Name: city, dtype: int64"
            ]
          },
          "metadata": {
            "tags": []
          },
          "execution_count": 96
        }
      ]
    },
    {
      "cell_type": "code",
      "metadata": {
        "id": "4jhDQddEzimL",
        "colab_type": "code",
        "colab": {
          "base_uri": "https://localhost:8080/",
          "height": 306
        },
        "outputId": "517ef9a7-4ae2-4336-c621-b9a01a04f86e"
      },
      "source": [
        "# Stratified sample\n",
        "# We will choose a sample size of 10% of all target records\n",
        "\n",
        "sample = data_final.groupby('city', group_keys=False).apply(lambda grouped_subset : grouped_subset.sample(frac=0.1))\n",
        "\n",
        "# proportion of the stratified sample\n",
        "print(sample['city'].value_counts())\n",
        "\n",
        "# Check the stratified output\n",
        "print(sample)"
      ],
      "execution_count": 97,
      "outputs": [
        {
          "output_type": "stream",
          "text": [
            "Hauts-de-Seine    158\n",
            "Paris              97\n",
            "Name: city, dtype: int64\n",
            "      postal_code       date  ...     month            city\n",
            "6101        92210 2018-01-21  ...   January  Hauts-de-Seine\n",
            "5023        92130 2018-02-04  ...  February  Hauts-de-Seine\n",
            "7787        92320 2018-06-10  ...      June  Hauts-de-Seine\n",
            "5127        92130 2018-06-02  ...      June  Hauts-de-Seine\n",
            "9606        92600 2018-04-21  ...     April  Hauts-de-Seine\n",
            "...           ...        ...  ...       ...             ...\n",
            "3288        75116 2018-01-13  ...   January           Paris\n",
            "3281        75116 2018-01-06  ...   January           Paris\n",
            "1213        75008 2018-05-05  ...       May           Paris\n",
            "2181        75014 2018-06-17  ...      June           Paris\n",
            "108         75001 2018-04-22  ...     April           Paris\n",
            "\n",
            "[255 rows x 9 columns]\n"
          ],
          "name": "stdout"
        }
      ]
    },
    {
      "cell_type": "code",
      "metadata": {
        "id": "ejIkZfqYqKAu",
        "colab_type": "code",
        "colab": {
          "base_uri": "https://localhost:8080/",
          "height": 279
        },
        "outputId": "49c8bdb7-ec2a-430f-9deb-3ea64f174a66"
      },
      "source": [
        "# Performing normality test on the sample selected\n",
        "\n",
        "from statsmodels.graphics.gofplots import qqplot\n",
        "\n",
        "# q-q plot\n",
        "\n",
        "qqplot(sample['total_bluecars_taken'], line='s')\n",
        "plt.show()"
      ],
      "execution_count": 98,
      "outputs": [
        {
          "output_type": "display_data",
          "data": {
            "image/png": "[encoded data removed]",
            "text/plain": [
              "<Figure size 432x288 with 1 Axes>"
            ]
          },
          "metadata": {
            "tags": [],
            "needs_background": "light"
          }
        }
      ]
    },
    {
      "cell_type": "markdown",
      "metadata": {
        "id": "oZKMoiLmqmqq",
        "colab_type": "text"
      },
      "source": [
        "> We do not expect the sample to have a normal distribution since the dataset contained a lot of outliers.\n",
        "\n",
        "> We will not drop outliers in this case since they could be valid observations.\n",
        "\n",
        "> More importantly, the fact that the data does not have a normal distribution will not affect our hypothesis testing that much since we have a relatively large sample size to work with (n is much higher than 30)."
      ]
    },
    {
      "cell_type": "markdown",
      "metadata": {
        "id": "UR1LWIOiKjUV",
        "colab_type": "text"
      },
      "source": [
        "# Hypothesis Testing"
      ]
    },
    {
      "cell_type": "markdown",
      "metadata": {
        "id": "4Oq7SdJ9EX87",
        "colab_type": "text"
      },
      "source": [
        "> To conduct hypothesis testing, we will use a two sample z-test and p-value to either reject or accept the null hypothesis.\n",
        "\n",
        "> Below are the reasons why we choose to use the z-test as the appropriate test statistic:\n",
        "\n",
        ">* The sample size is greater than 30. \n",
        "\n",
        ">* Data points are independent from each other.\n",
        "\n",
        ">* The sample data has been randomly selected from a population, so each item has an equal chance of being selected.\n",
        "\n"
      ]
    },
    {
      "cell_type": "code",
      "metadata": {
        "id": "Vhaxfc-IEwnM",
        "colab_type": "code",
        "colab": {
          "base_uri": "https://localhost:8080/",
          "height": 493
        },
        "outputId": "576dd39c-a00d-4cae-9b9c-6e3518a91db0"
      },
      "source": [
        "# First we need to define the two samples separately\n",
        "\n",
        "paris = sample[(sample['city'] == 'Paris')]\n",
        "hauts = sample[(sample['city'] == 'Hauts-de-Seine')]\n",
        "\n",
        "print(paris)\n",
        "print(hauts)"
      ],
      "execution_count": 104,
      "outputs": [
        {
          "output_type": "stream",
          "text": [
            "      postal_code       date  ...     month   city\n",
            "2797        75018 2018-06-09  ...      June  Paris\n",
            "101         75001 2018-04-15  ...     April  Paris\n",
            "1081        75007 2018-06-09  ...      June  Paris\n",
            "1608        75011 2018-02-18  ...  February  Paris\n",
            "1848        75012 2018-05-27  ...       May  Paris\n",
            "...           ...        ...  ...       ...    ...\n",
            "3288        75116 2018-01-13  ...   January  Paris\n",
            "3281        75116 2018-01-06  ...   January  Paris\n",
            "1213        75008 2018-05-05  ...       May  Paris\n",
            "2181        75014 2018-06-17  ...      June  Paris\n",
            "108         75001 2018-04-22  ...     April  Paris\n",
            "\n",
            "[97 rows x 9 columns]\n",
            "      postal_code       date  ...     month            city\n",
            "6101        92210 2018-01-21  ...   January  Hauts-de-Seine\n",
            "5023        92130 2018-02-04  ...  February  Hauts-de-Seine\n",
            "7787        92320 2018-06-10  ...      June  Hauts-de-Seine\n",
            "5127        92130 2018-06-02  ...      June  Hauts-de-Seine\n",
            "9606        92600 2018-04-21  ...     April  Hauts-de-Seine\n",
            "...           ...        ...  ...       ...             ...\n",
            "9348        92500 2018-01-06  ...   January  Hauts-de-Seine\n",
            "5856        92190 2018-04-01  ...     April  Hauts-de-Seine\n",
            "7170        92270 2018-06-17  ...      June  Hauts-de-Seine\n",
            "4712        92110 2018-02-04  ...  February  Hauts-de-Seine\n",
            "5671        92170 2018-03-03  ...     March  Hauts-de-Seine\n",
            "\n",
            "[158 rows x 9 columns]\n"
          ],
          "name": "stdout"
        }
      ]
    },
    {
      "cell_type": "markdown",
      "metadata": {
        "id": "XdmDTEVyuJ_Y",
        "colab_type": "text"
      },
      "source": [
        "## Significance Level"
      ]
    },
    {
      "cell_type": "markdown",
      "metadata": {
        "id": "HQmn_gIfuRp_",
        "colab_type": "text"
      },
      "source": [
        "> The level of significance of a test is the probability of rejecting the null hypothesis when it is true. For this analysis, the significance level chosen is 0.05 or 5% .\n",
        "\n",
        "> If the p-value calculated from the test statistic is less than 0.05 then we reject the null hypothesis. If the value is greater than or equal to 0.05 then we accept the null hypothesis."
      ]
    },
    {
      "cell_type": "markdown",
      "metadata": {
        "id": "0ZmHiuXJGkQS",
        "colab_type": "text"
      },
      "source": [
        "## Critical Value "
      ]
    },
    {
      "cell_type": "markdown",
      "metadata": {
        "id": "xQg8Hz3EGn0t",
        "colab_type": "text"
      },
      "source": [
        "> Since α = 0.05, and the test statistic is a one tailed test, the critical value of z is 1.645 according to the z critical value table."
      ]
    },
    {
      "cell_type": "markdown",
      "metadata": {
        "id": "sYXFeQk_v9Tj",
        "colab_type": "text"
      },
      "source": [
        "## Z-score and p-value"
      ]
    },
    {
      "cell_type": "code",
      "metadata": {
        "id": "W25Fj4RlHppX",
        "colab_type": "code",
        "colab": {
          "base_uri": "https://localhost:8080/",
          "height": 51
        },
        "outputId": "886a414a-c7fa-454b-902f-91338502bc60"
      },
      "source": [
        "# Next, we calculate the z-score and p value\n",
        "\n",
        "from scipy import stats\n",
        "from statsmodels.stats import weightstats as stests\n",
        "\n",
        "ztest ,pval1 = stests.ztest(x1=paris['total_bluecars_taken'], x2=hauts['total_bluecars_taken'], value=0,alternative='two-sided')\n",
        "print(float(pval1))\n",
        "if pval1<0.05:\n",
        "    print(\"Reject Null Hypothesis\")\n",
        "else:\n",
        "    print(\"Accept Null Hypothesis\")"
      ],
      "execution_count": 105,
      "outputs": [
        {
          "output_type": "stream",
          "text": [
            "7.161676119430548e-70\n",
            "Reject Null Hypothesis\n"
          ],
          "name": "stdout"
        }
      ]
    },
    {
      "cell_type": "markdown",
      "metadata": {
        "id": "-R3KsI_EFzGu",
        "colab_type": "text"
      },
      "source": [
        "> We can see that the p-value from the two sample z-test is less than 0.05 therefore we reject the null hypothesis"
      ]
    },
    {
      "cell_type": "code",
      "metadata": {
        "id": "vPER8bKWFEvv",
        "colab_type": "code",
        "colab": {
          "base_uri": "https://localhost:8080/",
          "height": 34
        },
        "outputId": "a652ba9f-174c-4608-b7fa-08c5c2705808"
      },
      "source": [
        "print(ztest)"
      ],
      "execution_count": 101,
      "outputs": [
        {
          "output_type": "stream",
          "text": [
            "17.669826543943937\n"
          ],
          "name": "stdout"
        }
      ]
    },
    {
      "cell_type": "markdown",
      "metadata": {
        "id": "MwxnNn3AIMuA",
        "colab_type": "text"
      },
      "source": [
        "> The z statistic is much higher than the z critical value which further depicts that we should reject the null hypothesis"
      ]
    },
    {
      "cell_type": "markdown",
      "metadata": {
        "id": "QytyTzlJ0iy-",
        "colab_type": "text"
      },
      "source": [
        "## Power of the test"
      ]
    },
    {
      "cell_type": "code",
      "metadata": {
        "id": "KG6GDx-8LSS7",
        "colab_type": "code",
        "colab": {
          "base_uri": "https://localhost:8080/",
          "height": 34
        },
        "outputId": "53de5b53-2085-4fb7-bd97-ed13ed49f1af"
      },
      "source": [
        "# Checking the power of the two sample z test\n",
        "\n",
        "from statsmodels.stats.power import zt_ind_solve_power\n",
        "\n",
        "alpha=0.05\n",
        "ratio=(158/97)\n",
        "effect_size= 0.3\n",
        "\n",
        "statistical_power = zt_ind_solve_power(effect_size=effect_size, nobs1=97, alpha=alpha, power=None, ratio=ratio, alternative='two-sided')\n",
        "print(\"The statistical power is: {0}\".format(statistical_power))"
      ],
      "execution_count": 102,
      "outputs": [
        {
          "output_type": "stream",
          "text": [
            "The statistical power is: 0.6427518155138209\n"
          ],
          "name": "stdout"
        }
      ]
    },
    {
      "cell_type": "markdown",
      "metadata": {
        "id": "gcqPB4xj00T_",
        "colab_type": "text"
      },
      "source": [
        "> The power of the test conducted is 64%. Ideally, this should be closer to 90% for a more significant statistical test.\n",
        "\n",
        "> Some of the factors that could have affected the statistical power of the test include:\n",
        "\n",
        ">* Sample sizes for the two strata were not the same.\n",
        "\n",
        ">* The population did not follow a normal distribution."
      ]
    },
    {
      "cell_type": "markdown",
      "metadata": {
        "id": "AO1d4HMDxGgP",
        "colab_type": "text"
      },
      "source": [
        "# Hypothesis Testing Results and Interpretation"
      ]
    },
    {
      "cell_type": "markdown",
      "metadata": {
        "id": "GvinjlnjxNoK",
        "colab_type": "text"
      },
      "source": [
        "> As mentioned, we calculated the p value of the two sample z test and found that the p values is 7.161676119430548e-70 which is much less than 0.05. Therefore, we reject the null hypothesis. This means that the average number of blue cars picked up on weekends is not the same for Paris and that for Hauts-de-Seine. In this case, we accept the alternate hypothesis.\n",
        "\n",
        "> The calculated z statistic is 17.7 against the expected critical value of 1.645. This means that the data points are 17.7 standard deviations away from the mean. This is further evidence that we need to reject the null hypothesis."
      ]
    },
    {
      "cell_type": "markdown",
      "metadata": {
        "id": "8QfE4p_Y2VDA",
        "colab_type": "text"
      },
      "source": [
        "# Project Summary and Conclusions"
      ]
    },
    {
      "cell_type": "markdown",
      "metadata": {
        "id": "ssPpRiWd4LXe",
        "colab_type": "text"
      },
      "source": [
        "> We have successfully defined the null and alternate hypothesis, executed the sampling technique and carried out hypothesis testing which led to the rejection of the null hypothesis. We concluded that the average number of blue cars picked up in Hauts-de-Seine is not the same as that in Paris. \n",
        "\n",
        "> One factor that needs further investigation is the low power of the test. The high variance in the target population could have impacted the test statistic and contributed to a high likelihood of a Type I error."
      ]
    }
  ]
}